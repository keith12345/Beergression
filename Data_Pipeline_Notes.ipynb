{
 "cells": [
  {
   "cell_type": "markdown",
   "metadata": {},
   "source": [
    "# Data Pipeline\n",
    "\n",
    "## Desired Columns:\n",
    "* Average score by beer\n",
    "* Average Alcohol content of beers\n",
    "* Standard deviation of alcohol content\n",
    "* Counts by type of beer\n",
    "* Percentage of beers by beer style\n",
    "* Region / state / city\n",
    "* Number of styles produced by a brewery\n",
    "* Total number of beers\n",
    "* Average number of beers by style (only counting styles that have at least one beer)\n",
    "* Create boolean based on whether 'Notes' for each brewery exists\n",
    "* Create boolean for each beer whether notes exists.\n",
    "    * Possibly convert to percentage of beers that have notes\n",
    "    * Could also have total beers with notes (boolean probably better)\n",
    "\n",
    "\n",
    "Scrape without subpage\n"
   ]
  }
 ],
 "metadata": {
  "kernelspec": {
   "display_name": "Python 3",
   "language": "python",
   "name": "python3"
  },
  "language_info": {
   "codemirror_mode": {
    "name": "ipython",
    "version": 3
   },
   "file_extension": ".py",
   "mimetype": "text/x-python",
   "name": "python",
   "nbconvert_exporter": "python",
   "pygments_lexer": "ipython3",
   "version": "3.7.1"
  }
 },
 "nbformat": 4,
 "nbformat_minor": 2
}
