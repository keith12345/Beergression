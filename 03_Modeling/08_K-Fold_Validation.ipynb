{
 "cells": [
  {
   "cell_type": "code",
   "execution_count": 1,
   "metadata": {},
   "outputs": [
    {
     "name": "stderr",
     "output_type": "stream",
     "text": [
      "/anaconda3/lib/python3.7/site-packages/sklearn/cross_validation.py:41: DeprecationWarning: This module was deprecated in version 0.18 in favor of the model_selection module into which all the refactored classes and functions are moved. Also note that the interface of the new CV iterators are different from that of this module. This module will be removed in 0.20.\n",
      "  \"This module will be removed in 0.20.\", DeprecationWarning)\n"
     ]
    }
   ],
   "source": [
    "import pandas as pd\n",
    "import numpy as np\n",
    "import statsmodels.api as sm\n",
    "import statsmodels.formula.api as smf\n",
    "import patsy\n",
    "import os\n",
    "import scipy.stats as stats\n",
    "\n",
    "import seaborn as sns\n",
    "import matplotlib.pyplot as plt\n",
    "from sklearn.linear_model import LinearRegression, Lasso, LassoCV, Ridge, RidgeCV\n",
    "from sklearn.metrics import mean_squared_error\n",
    "from sklearn.model_selection import KFold\n",
    "from sklearn.cross_validation import train_test_split\n",
    "from sklearn.preprocessing import StandardScaler, PolynomialFeatures\n",
    "from math import sqrt\n",
    "%matplotlib inline\n",
    "import warnings; warnings.simplefilter('ignore')\n",
    "\n"
   ]
  },
  {
   "cell_type": "code",
   "execution_count": 2,
   "metadata": {},
   "outputs": [],
   "source": [
    "os.chdir('../../Beergression_Data_and_misc/Data/')"
   ]
  },
  {
   "cell_type": "markdown",
   "metadata": {},
   "source": [
    "# Import and Prepare Data"
   ]
  },
  {
   "cell_type": "code",
   "execution_count": 4,
   "metadata": {},
   "outputs": [],
   "source": [
    "df = pd.read_pickle('All_Data')"
   ]
  },
  {
   "cell_type": "code",
   "execution_count": 5,
   "metadata": {},
   "outputs": [],
   "source": [
    "df.reset_index(drop=True,inplace=True)"
   ]
  },
  {
   "cell_type": "code",
   "execution_count": 6,
   "metadata": {},
   "outputs": [],
   "source": [
    "df['Max_Beer_Score'] = df.Max_Beer_Score.replace(0,np.nan)\n",
    "df['Mean_Beer_Score'] = df.Mean_Beer_Score.replace(0,np.nan)\n",
    "df['Num_Beers'] = df.Num_Beers.replace(0,np.nan)\n",
    "df['Total_Beer_Reviews'] = df.Total_Beer_Reviews.replace(0,np.nan)\n",
    "df['Total_Beer_Ratings'] = df.Total_Beer_Ratings.replace(0,np.nan)\n",
    "df['Num_Brewery_Reviews'] = df.Total_Beer_Reviews.replace(0,np.nan)\n",
    "df['Num_Brewery_Ratings'] = df.Total_Beer_Ratings.replace(0,np.nan)"
   ]
  },
  {
   "cell_type": "code",
   "execution_count": 7,
   "metadata": {},
   "outputs": [],
   "source": [
    "df.dropna(inplace=True)"
   ]
  },
  {
   "cell_type": "code",
   "execution_count": 8,
   "metadata": {},
   "outputs": [],
   "source": [
    "df = df[df.Total_Beer_Reviews < 300]"
   ]
  },
  {
   "cell_type": "code",
   "execution_count": 9,
   "metadata": {},
   "outputs": [],
   "source": [
    "lamb1=stats.boxcox_normmax(df.Total_Beer_Ratings, brack=(-1.9, 1.9)) \n",
    "lamb2=stats.boxcox_normmax(df.Total_Beer_Reviews, brack=(-1.9, 1.9))\n",
    "lamb3=stats.boxcox_normmax(df.Num_Brewery_Ratings, brack=(-1.9, 1.9))\n",
    "lamb4=stats.boxcox_normmax(df.Num_Brewery_Reviews, brack=(-1.9, 1.9))"
   ]
  },
  {
   "cell_type": "code",
   "execution_count": 10,
   "metadata": {},
   "outputs": [],
   "source": [
    "df['Lam_Total_Beer_Ratings'] = (np.power(df.Total_Beer_Ratings,lamb1)-1)/lamb1\n",
    "df['Lam_Total_Beer_Reviews'] = (np.power(df.Total_Beer_Reviews,lamb2)-1)/lamb2\n",
    "df['Lam_Num_Brewery_Ratings'] = (np.power(df.Num_Brewery_Ratings,lamb3)-1)/lamb3\n",
    "df['Lam_Num_Brewery_Reviews'] = (np.power(df.Num_Brewery_Reviews,lamb4)-1)/lamb4\n",
    "\n",
    "df['Wild_Sour'] = df.Mean_Wild_Sour * df.Max_Wild_Sour\n",
    "df['Lam_Brew_Rats_Revs'] = df['Lam_Num_Brewery_Ratings'] * df['Lam_Num_Brewery_Reviews']\n",
    "df['Lam_Beer_Rats_Revs'] = df['Lam_Total_Beer_Ratings'] * df['Lam_Total_Beer_Reviews']\n",
    "df['Max_Times_Mean_Beer_Score'] = df['Max_Beer_Score'] * df['Max_Mean_Beer_Score'] * df['Mean_Beer_Score']"
   ]
  },
  {
   "cell_type": "code",
   "execution_count": 11,
   "metadata": {},
   "outputs": [],
   "source": [
    "df = df[['Brewery_Score','Eatery', 'Lam_Total_Beer_Ratings', 'Lam_Total_Beer_Reviews', \n",
    "        'Lam_Num_Brewery_Ratings', 'Lam_Num_Brewery_Ratings', \n",
    "        'Num_Beers', 'Max_Beer_Score', 'Max_Mean_Beer_Score', \n",
    "        'Mean_Beer_Score','Lam_Brew_Rats_Revs','Lam_Beer_Rats_Revs',\n",
    "        'Max_Times_Mean_Beer_Score','Count_IPA_Pale_Ale','Wild_Sour']]"
   ]
  },
  {
   "cell_type": "code",
   "execution_count": 12,
   "metadata": {},
   "outputs": [],
   "source": [
    "X, y = df.drop('Brewery_Score',axis=1), df['Brewery_Score']\n",
    "\n",
    "X, X_test, y, y_test = train_test_split(X, y, test_size=.2, random_state=10) #hold out 20% of the data for final testing"
   ]
  },
  {
   "cell_type": "markdown",
   "metadata": {},
   "source": [
    "# Test and Compare Models"
   ]
  },
  {
   "cell_type": "code",
   "execution_count": 15,
   "metadata": {},
   "outputs": [
    {
     "name": "stdout",
     "output_type": "stream",
     "text": [
      "LASSO Model:  [0.20614589422829166, 0.2577607889276675, 0.22667738855164155, 0.20021331478971957, 0.1570958440104615]\n",
      "Ridge Model:  [0.20550798833942507, 0.257307758336341, 0.22951669724933976, 0.19852648289848784, 0.15625708418169915]\n",
      "Standard Model:  [0.20499114777933425, 0.25934854171325916, 0.22694795796912848, 0.19899131164183226, 0.1551241909202716] \n",
      "\n",
      "LASSO Model Adjusted r^2:  -0.010601324154974057\n",
      "Ridge Model Adjusted r^2:  -0.01080006854731641\n",
      "Standard Model Adjusted r^2:  -0.01123806774038627 \n",
      "\n",
      "LASSO Model cv r^2: 0.210 +- 0.033\n",
      "Ridge Model cv r^2: 0.209 +- 0.034\n",
      "Standard Model cv r^2: 0.209 +- 0.034\n"
     ]
    }
   ],
   "source": [
    "kf = KFold(n_splits=5, shuffle=True, random_state = 101)\n",
    "lm_r2, rm_r2, sm_r2, OLS = [], [], [], [] #collect the validation results for both models\n",
    "\n",
    "for train_ind, val_ind in kf.split(X,y):\n",
    "    \n",
    "    X_train, y_train = X.iloc[train_ind], y.iloc[train_ind]\n",
    "    X_val, y_val = X.iloc[val_ind], y.iloc[val_ind] \n",
    "    \n",
    "    #LASSO Model\n",
    "    lasso_model = Lasso(alpha = .00044, max_iter = 60)\n",
    "    lasso_model.fit(X_train, y_train)\n",
    "    lm_r2.append(lasso_model.score(X_val,y_val))\n",
    "    \n",
    "    #Ridge Model\n",
    "    lr_model_ridge = Ridge(alpha = 38, max_iter = 10)\n",
    "    lr_model_ridge.fit(X_train, y_train)\n",
    "    rm_r2.append(lr_model_ridge.score(X_val,y_val))\n",
    "    \n",
    "    #Standard Model\n",
    "    lr = LinearRegression()\n",
    "    lr.fit(X_train, y_train)\n",
    "    sm_r2.append(lr.score(X_val,y_val))\n",
    "\n",
    "print('LASSO Model: ', lm_r2)\n",
    "print('Ridge Model: ', rm_r2)\n",
    "print('Standard Model: ', sm_r2, '\\n')\n",
    "\n",
    "print('LASSO Model Adjusted r^2: ', 1 - (1-np.mean(lm_r2))*\n",
    "      (len(y_test)-1)/(len(y_val)-X_test.shape[1]-1))\n",
    "print('Ridge Model Adjusted r^2: ', 1 - (1-np.mean(rm_r2))*\n",
    "      (len(y_test)-1)/(len(y_val)-X_test.shape[1]-1))\n",
    "print('Standard Model Adjusted r^2: ', 1 - (1-np.mean(sm_r2))*\n",
    "      (len(y_test)-1)/(len(y_val)-X_test.shape[1]-1), '\\n')\n",
    "\n",
    "print(f'LASSO Model cv r^2: {np.mean(lm_r2):.3f} +- {np.std(lm_r2):.3f}')\n",
    "print(f'Ridge Model cv r^2: {np.mean(rm_r2):.3f} +- {np.std(rm_r2):.3f}')\n",
    "print(f'Standard Model cv r^2: {np.mean(sm_r2):.3f} +- {np.std(sm_r2):.3f}')"
   ]
  },
  {
   "cell_type": "code",
   "execution_count": 16,
   "metadata": {},
   "outputs": [
    {
     "name": "stdout",
     "output_type": "stream",
     "text": [
      "0.29223555876111673\n",
      "0.29237698967231046\n",
      "0.2922052092174904\n"
     ]
    }
   ],
   "source": [
    "\n",
    "#LASSO Model\n",
    "lasso_model = Lasso(alpha = .00044, max_iter = 60)\n",
    "lasso_model.fit(X, y)\n",
    "lm_predictions = lasso_model.predict(X_test)\n",
    "\n",
    "#Ridge Model\n",
    "lr_model_ridge = Ridge(alpha = 38, max_iter = 10)\n",
    "lr_model_ridge.fit(X, y)\n",
    "rm_predictions = lr_model_ridge.predict(X_test)\n",
    "\n",
    "#Standard Model\n",
    "lr = LinearRegression()\n",
    "lr.fit(X, y)\n",
    "sm_predictions = lr.predict(X_test)\n",
    "\n",
    "print(sqrt(mean_squared_error(y_test, lm_predictions)))\n",
    "print(sqrt(mean_squared_error(y_test, rm_predictions)))\n",
    "print(sqrt(mean_squared_error(y_test, sm_predictions)))"
   ]
  },
  {
   "cell_type": "code",
   "execution_count": 17,
   "metadata": {},
   "outputs": [],
   "source": [
    "predictions = lasso_model.predict(X_test)"
   ]
  },
  {
   "cell_type": "code",
   "execution_count": 18,
   "metadata": {},
   "outputs": [
    {
     "data": {
      "image/png": "[encoded data removed]",
      "text/plain": [
       "<Figure size 432x288 with 1 Axes>"
      ]
     },
     "metadata": {
      "needs_background": "light"
     },
     "output_type": "display_data"
    }
   ],
   "source": [
    "plt.hist(predictions,bins=50);\n",
    "plt.hist(y_test,bins=50);"
   ]
  },
  {
   "cell_type": "code",
   "execution_count": 19,
   "metadata": {},
   "outputs": [
    {
     "data": {
      "image/png": "[encoded data removed]",
      "text/plain": [
       "<Figure size 1080x432 with 2 Axes>"
      ]
     },
     "metadata": {
      "needs_background": "light"
     },
     "output_type": "display_data"
    }
   ],
   "source": [
    "#Creates two subplots and unpacks the output array immediately\n",
    "f, (ax1, ax2) = plt.subplots(1, 2, sharey=True,sharex=True)\n",
    "f.suptitle('Distribution of Predictions v.s. Actuals')\n",
    "f.set_figheight(6)\n",
    "f.set_figwidth(15)\n",
    "\n",
    "ax1.set_title('Predictions')\n",
    "ax1.hist(predictions,bins=22)\n",
    "ax2.set_title('Actuals')\n",
    "ax2.hist(y_test,bins=50)\n",
    "\n",
    "ax1.set_xlabel('Score')\n",
    "ax2.set_xlabel('Score')\n",
    "ax1.set_ylabel('Value Counts');\n",
    "\n",
    "f.savefig('Predictions_v_Actuals')"
   ]
  },
  {
   "cell_type": "code",
   "execution_count": null,
   "metadata": {},
   "outputs": [],
   "source": []
  }
 ],
 "metadata": {
  "kernelspec": {
   "display_name": "Python 3",
   "language": "python",
   "name": "python3"
  },
  "language_info": {
   "codemirror_mode": {
    "name": "ipython",
    "version": 3
   },
   "file_extension": ".py",
   "mimetype": "text/x-python",
   "name": "python",
   "nbconvert_exporter": "python",
   "pygments_lexer": "ipython3",
   "version": "3.7.1"
  }
 },
 "nbformat": 4,
 "nbformat_minor": 2
}
