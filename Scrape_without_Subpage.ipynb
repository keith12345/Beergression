{
 "cells": [
  {
   "cell_type": "code",
   "execution_count": 1,
   "metadata": {},
   "outputs": [],
   "source": [
    "import requests\n",
    "from bs4 import BeautifulSoup\n",
    "import re\n",
    "import time\n",
    "import numpy as np\n",
    "import pandas as pd\n",
    "import pickle"
   ]
  },
  {
   "cell_type": "code",
   "execution_count": 2,
   "metadata": {},
   "outputs": [],
   "source": [
    "def get_style_links():\n",
    "    # we start on the styles page because it is the easiest page \n",
    "    # from which to access all beers\n",
    "    \n",
    "    followable_links = []\n",
    "    url = 'https://www.beeradvocate.com/beer/styles/'\n",
    "    response = requests.get(url)\n",
    "    page = response.text\n",
    "    soup = BeautifulSoup(page, \"lxml\")\n",
    "    \n",
    "    # get style links\n",
    "\n",
    "    styles_links = [link for link in soup.find_all('a') if 'beer/styles' in str(link)]\n",
    "\n",
    "    styles_nums = []\n",
    "\n",
    "    for link in styles_links[2:]:\n",
    "        styles_nums.append(str(link).split('/')[3])\n",
    "        \n",
    "    styles_nums = sorted(styles_nums)[1:]\n",
    "    \n",
    "    for num in styles_nums:\n",
    "        followable_links.append(url + num)\n",
    "    \n",
    "    return followable_links, styles_nums"
   ]
  },
  {
   "cell_type": "code",
   "execution_count": 3,
   "metadata": {},
   "outputs": [
    {
     "name": "stdout",
     "output_type": "stream",
     "text": [
      "https://www.beeradvocate.com/beer/styles/10\n"
     ]
    },
    {
     "data": {
      "text/plain": [
       "str"
      ]
     },
     "execution_count": 3,
     "metadata": {},
     "output_type": "execute_result"
    }
   ],
   "source": [
    "style_links, style_nums = get_style_links()\n",
    "print(style_links[0])\n",
    "type(style_nums[0])"
   ]
  },
  {
   "cell_type": "code",
   "execution_count": 44,
   "metadata": {},
   "outputs": [],
   "source": [
    "def get_beer_info(url):\n",
    "    \n",
    "    response = requests.get(url)\n",
    "    page = response.text\n",
    "    soup = BeautifulSoup(page, \"lxml\")\n",
    "    \n",
    "    beer_info_td_s = soup.select('td[class*=\"hr_bottom_light\"]')\n",
    "    beer_info_list = [td.text for td in beer_info_td_s]\n",
    "    \n",
    "    rearranger = int(len(beer_info_list)/6)\n",
    "    \n",
    "    style_div = soup.select(\"div[class*=titleBar]\")\n",
    "    style_string = style_div[0].text\n",
    "    style = re.sub(r'\\n','',style_string)\n",
    "    style = ((style + '!')*rearranger).split('!')[0:rearranger]\n",
    "\n",
    "    beer_name = beer_info_list[::6]\n",
    "    brewery_name = beer_info_list[1::6]\n",
    "    abv = beer_info_list[2::6]\n",
    "    ratings = beer_info_list[3::6]\n",
    "    score = beer_info_list[4::6]\n",
    "\n",
    "    beer_and_brewery_names_links = soup.select(\"a[href*=/beer/profile/]\")\n",
    "\n",
    "    brewery_nums = []\n",
    "\n",
    "    for link in beer_and_brewery_names_links[1::2]:\n",
    "        brew_num_string_list = str(link).split('/')\n",
    "        brew_num = brew_num_string_list[3]\n",
    "        brewery_nums.append(brew_num)\n",
    "\n",
    "    data = np.array([beer_name,brewery_name,abv,\n",
    "                     ratings,score,brewery_nums]).reshape(rearranger,6)\n",
    "\n",
    "    df = pd.DataFrame(data=[beer_name,brewery_name,style,abv,\n",
    "                     ratings,score,brewery_nums])\n",
    "\n",
    "    df = df.transpose()\n",
    "\n",
    "    df.columns = ['beer_name','brewery_name','style','abv',\n",
    "                     'ratings','score','brewery_nums']\n",
    "    \n",
    "    return df"
   ]
  },
  {
   "cell_type": "code",
   "execution_count": 45,
   "metadata": {},
   "outputs": [
    {
     "data": {
      "text/html": [
       "<div>\n",
       "<style scoped>\n",
       "    .dataframe tbody tr th:only-of-type {\n",
       "        vertical-align: middle;\n",
       "    }\n",
       "\n",
       "    .dataframe tbody tr th {\n",
       "        vertical-align: top;\n",
       "    }\n",
       "\n",
       "    .dataframe thead th {\n",
       "        text-align: right;\n",
       "    }\n",
       "</style>\n",
       "<table border=\"1\" class=\"dataframe\">\n",
       "  <thead>\n",
       "    <tr style=\"text-align: right;\">\n",
       "      <th></th>\n",
       "      <th>beer_name</th>\n",
       "      <th>brewery_name</th>\n",
       "      <th>style</th>\n",
       "      <th>abv</th>\n",
       "      <th>ratings</th>\n",
       "      <th>score</th>\n",
       "      <th>brewery_nums</th>\n",
       "    </tr>\n",
       "  </thead>\n",
       "  <tbody>\n",
       "    <tr>\n",
       "      <th>0</th>\n",
       "      <td>Cantillon Fou' Foune</td>\n",
       "      <td>Brasserie Cantillon</td>\n",
       "      <td>Belgian Fruit Lambic</td>\n",
       "      <td>5.00</td>\n",
       "      <td>3,079</td>\n",
       "      <td>4.65</td>\n",
       "      <td>388</td>\n",
       "    </tr>\n",
       "    <tr>\n",
       "      <th>1</th>\n",
       "      <td>Lindemans Framboise</td>\n",
       "      <td>Brouwerij Lindemans</td>\n",
       "      <td>Belgian Fruit Lambic</td>\n",
       "      <td>2.50</td>\n",
       "      <td>2,884</td>\n",
       "      <td>3.88</td>\n",
       "      <td>187</td>\n",
       "    </tr>\n",
       "  </tbody>\n",
       "</table>\n",
       "</div>"
      ],
      "text/plain": [
       "              beer_name         brewery_name                 style   abv  \\\n",
       "0  Cantillon Fou' Foune  Brasserie Cantillon  Belgian Fruit Lambic  5.00   \n",
       "1   Lindemans Framboise  Brouwerij Lindemans  Belgian Fruit Lambic  2.50   \n",
       "\n",
       "  ratings score brewery_nums  \n",
       "0   3,079  4.65          388  \n",
       "1   2,884  3.88          187  "
      ]
     },
     "execution_count": 45,
     "metadata": {},
     "output_type": "execute_result"
    }
   ],
   "source": [
    "df = get_beer_info('https://www.beeradvocate.com/beer/styles/10')\n",
    "df.head(2)"
   ]
  },
  {
   "cell_type": "markdown",
   "metadata": {},
   "source": [
    "**psuedo code**"
   ]
  },
  {
   "cell_type": "code",
   "execution_count": 9,
   "metadata": {},
   "outputs": [],
   "source": [
    "def get_style_max(url):\n",
    "\n",
    "    response = requests.get(url)\n",
    "    page = response.text\n",
    "    soup = BeautifulSoup(page, \"lxml\")\n",
    "    \n",
    "    try:\n",
    "        style_max_ref = soup.find_all('a')[-137]\n",
    "        style_max = re.split(r'=|\"', str(style_max_ref))[-2]\n",
    "        style_max = int(style_max)\n",
    "    except:\n",
    "        style_max = 0\n",
    "    \n",
    "    return style_max"
   ]
  },
  {
   "cell_type": "code",
   "execution_count": 10,
   "metadata": {},
   "outputs": [],
   "source": [
    "def open_new_style_page(url,counter):\n",
    "    out = url + '/?sort=revsD&start=' + str(counter)\n",
    "    \n",
    "    return out\n",
    "    "
   ]
  },
  {
   "cell_type": "code",
   "execution_count": 11,
   "metadata": {},
   "outputs": [
    {
     "data": {
      "text/plain": [
       "'https://www.beeradvocate.com/beer/styles/10/?sort=revsD&start=0'"
      ]
     },
     "execution_count": 11,
     "metadata": {},
     "output_type": "execute_result"
    }
   ],
   "source": [
    "open_new_style_page(style_links[0],0)"
   ]
  },
  {
   "cell_type": "markdown",
   "metadata": {},
   "source": [
    "# Master Function"
   ]
  },
  {
   "cell_type": "code",
   "execution_count": 47,
   "metadata": {},
   "outputs": [],
   "source": [
    "def compile_beer_info():\n",
    "    \n",
    "    style_links, style_nums = get_style_links()\n",
    "    \n",
    "    i = 1\n",
    "    \n",
    "    for style_link, style_num in zip(style_links, style_nums):\n",
    "        \n",
    "        df = pd.DataFrame(columns = ['beer_name','brewery_name','abv',\n",
    "                             'ratings','score','brewery_nums'])\n",
    "        \n",
    "        style_max = get_style_max(style_link)\n",
    "        \n",
    "        counter = 0\n",
    "\n",
    "        while counter <= style_max:        \n",
    "\n",
    "            url = open_new_style_page(style_link,counter)\n",
    "\n",
    "            beer_info_df = get_beer_info(url)\n",
    "            \n",
    "            df = pd.concat((df,beer_info_df),axis=0)\n",
    "            \n",
    "            time.sleep(np.random.poisson(10)/100)\n",
    "            \n",
    "            counter += 50\n",
    "        \n",
    "        print('completed pass ' + str(i))\n",
    "        \n",
    "        i += 1\n",
    "        \n",
    "        pd.DataFrame.to_pickle(df,style_num)"
   ]
  },
  {
   "cell_type": "code",
   "execution_count": 48,
   "metadata": {},
   "outputs": [
    {
     "name": "stderr",
     "output_type": "stream",
     "text": [
      "/anaconda3/lib/python3.7/site-packages/ipykernel_launcher.py:22: FutureWarning: Sorting because non-concatenation axis is not aligned. A future version\n",
      "of pandas will change to not sort by default.\n",
      "\n",
      "To accept the future behavior, pass 'sort=False'.\n",
      "\n",
      "To retain the current behavior and silence the warning, pass 'sort=True'.\n",
      "\n"
     ]
    },
    {
     "name": "stdout",
     "output_type": "stream",
     "text": [
      "completed pass 1\n",
      "completed pass 2\n",
      "completed pass 3\n",
      "completed pass 4\n",
      "completed pass 5\n",
      "completed pass 6\n",
      "completed pass 7\n",
      "completed pass 8\n",
      "completed pass 9\n",
      "completed pass 10\n",
      "completed pass 11\n",
      "completed pass 12\n",
      "completed pass 13\n",
      "completed pass 14\n",
      "completed pass 15\n",
      "completed pass 16\n",
      "completed pass 17\n",
      "completed pass 18\n",
      "completed pass 19\n",
      "completed pass 20\n",
      "completed pass 21\n",
      "completed pass 22\n",
      "completed pass 23\n",
      "completed pass 24\n",
      "completed pass 25\n",
      "completed pass 26\n",
      "completed pass 27\n",
      "completed pass 28\n",
      "completed pass 29\n",
      "completed pass 30\n",
      "completed pass 31\n",
      "completed pass 32\n",
      "completed pass 33\n",
      "completed pass 34\n",
      "completed pass 35\n",
      "completed pass 36\n",
      "completed pass 37\n",
      "completed pass 38\n",
      "completed pass 39\n",
      "completed pass 40\n",
      "completed pass 41\n",
      "completed pass 42\n",
      "completed pass 43\n",
      "completed pass 44\n",
      "completed pass 45\n",
      "completed pass 46\n",
      "completed pass 47\n",
      "completed pass 48\n",
      "completed pass 49\n",
      "completed pass 50\n",
      "completed pass 51\n",
      "completed pass 52\n",
      "completed pass 53\n",
      "completed pass 54\n",
      "completed pass 55\n",
      "completed pass 56\n",
      "completed pass 57\n",
      "completed pass 58\n",
      "completed pass 59\n",
      "completed pass 60\n",
      "completed pass 61\n",
      "completed pass 62\n",
      "completed pass 63\n",
      "completed pass 64\n",
      "completed pass 65\n",
      "completed pass 66\n",
      "completed pass 67\n",
      "completed pass 68\n",
      "completed pass 69\n",
      "completed pass 70\n",
      "completed pass 71\n",
      "completed pass 72\n",
      "completed pass 73\n",
      "completed pass 74\n",
      "completed pass 75\n",
      "completed pass 76\n",
      "completed pass 77\n",
      "completed pass 78\n",
      "completed pass 79\n",
      "completed pass 80\n",
      "completed pass 81\n",
      "completed pass 82\n",
      "completed pass 83\n",
      "completed pass 84\n",
      "completed pass 85\n",
      "completed pass 86\n",
      "completed pass 87\n",
      "completed pass 88\n",
      "completed pass 89\n",
      "completed pass 90\n",
      "completed pass 91\n",
      "completed pass 92\n",
      "completed pass 93\n",
      "completed pass 94\n",
      "completed pass 95\n",
      "completed pass 96\n",
      "completed pass 97\n",
      "completed pass 98\n",
      "completed pass 99\n",
      "completed pass 100\n",
      "completed pass 101\n",
      "completed pass 102\n",
      "completed pass 103\n",
      "completed pass 104\n",
      "completed pass 105\n",
      "completed pass 106\n",
      "completed pass 107\n",
      "completed pass 108\n",
      "completed pass 109\n",
      "completed pass 110\n",
      "completed pass 111\n"
     ]
    }
   ],
   "source": [
    "compile_beer_info()"
   ]
  },
  {
   "cell_type": "code",
   "execution_count": null,
   "metadata": {},
   "outputs": [],
   "source": []
  }
 ],
 "metadata": {
  "kernelspec": {
   "display_name": "Python 3",
   "language": "python",
   "name": "python3"
  },
  "language_info": {
   "codemirror_mode": {
    "name": "ipython",
    "version": 3
   },
   "file_extension": ".py",
   "mimetype": "text/x-python",
   "name": "python",
   "nbconvert_exporter": "python",
   "pygments_lexer": "ipython3",
   "version": "3.7.1"
  }
 },
 "nbformat": 4,
 "nbformat_minor": 2
}
