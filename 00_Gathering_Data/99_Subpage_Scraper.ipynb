{
 "cells": [
  {
   "cell_type": "code",
   "execution_count": 1,
   "metadata": {},
   "outputs": [],
   "source": [
    "import time\n",
    "import pickle\n",
    "import numpy as np\n",
    "import os\n",
    "import re\n",
    "import pandas as pd\n",
    "\n",
    "from Scraping_Library import get_style_links_and_nums, get_beer_info, get_brew_beer_links, get_style_max, open_new_style_page"
   ]
  },
  {
   "cell_type": "code",
   "execution_count": 2,
   "metadata": {},
   "outputs": [],
   "source": [
    "os.chdir('../../Beergression_Data_and_misc/Data/')"
   ]
  },
  {
   "cell_type": "code",
   "execution_count": 3,
   "metadata": {},
   "outputs": [],
   "source": [
    "def compile_beer_info():\n",
    "    \n",
    "    \"\"\"\n",
    "    No inputs required.\n",
    "    \n",
    "    Obtains all style links from the style links function.\n",
    "    \n",
    "    For each style link, finds the style max (i.e. the last page of beers for that style) and sets a counter to 0.\n",
    "    \n",
    "    For each style link combined with the counter; obtains a list of urls of all beer pages on the respective style page, scrapes each page, then increase the counter by 50 so as to go to the next style page, obtain a list of beer links, and scrape each beer page.\n",
    "    \n",
    "    The function will then save the dictionary as a pandas DataFrame.\n",
    "    \n",
    "    \"\"\"\n",
    "    \n",
    "    style_links = get_style_links()\n",
    "    \n",
    "    for style_link in style_links:\n",
    "        \n",
    "        style_max = get_style_max(style_link)\n",
    "        \n",
    "        print(style_max)\n",
    "\n",
    "        # For each style link we add the suffix used\n",
    "        # to sort. Sorting is done in groups of 50.\n",
    "        # Our counter is used to specify where sorting\n",
    "        # will occur on the next loaded page.\n",
    "\n",
    "        # Each style like will have multple pages.\n",
    "\n",
    "        counter = 0\n",
    "\n",
    "        while counter <= style_max:\n",
    "            \n",
    "            dic = {}\n",
    "\n",
    "            url = open_new_style_page(style_link,counter)\n",
    "\n",
    "            brew_beer_links = get_brew_beer_links(url)\n",
    "\n",
    "            for brew_beer_link in brew_beer_links:\n",
    "\n",
    "                key, values = get_beer_info(brew_beer_link)\n",
    "\n",
    "                dic[key] = values\n",
    "\n",
    "                time.sleep(np.random.poisson(10)/100)\n",
    "\n",
    "            string = re.findall(r'\\d+', url)\n",
    "            name = str(string[0]) + '_' + str(string[-1])\n",
    "\n",
    "            df = pd.DataFrame(dic)     \n",
    "            df = df.transpose()      \n",
    "            pd.DataFrame.to_pickle(df,name)\n",
    "\n",
    "            counter += 50\n",
    "    \n",
    "    return "
   ]
  },
  {
   "cell_type": "code",
   "execution_count": 6,
   "metadata": {},
   "outputs": [],
   "source": [
    "def compile_beer_info():\n",
    "    \n",
    "    style_links, style_nums = get_style_links_and_nums()\n",
    "    \n",
    "    i = 1\n",
    "    \n",
    "    for style_link, style_num in zip(style_links, style_nums):\n",
    "        \n",
    "        df = pd.DataFrame(columns = ['beer_name','brewery_name','abv',\n",
    "                             'ratings','score','brewery_nums'])\n",
    "        \n",
    "        style_max = get_style_max(style_link)\n",
    "        \n",
    "        counter = 0\n",
    "\n",
    "        while counter <= style_max:        \n",
    "\n",
    "            url = open_new_style_page(style_link,counter)\n",
    "\n",
    "            beer_info_df = get_beer_info(url)\n",
    "            \n",
    "            df = pd.concat((df,beer_info_df),axis=0)\n",
    "            \n",
    "            time.sleep(np.random.poisson(10)/100)\n",
    "            \n",
    "            counter += 50\n",
    "        \n",
    "        print('completed pass ' + str(i))\n",
    "        \n",
    "        i += 1\n",
    "        \n",
    "        pd.DataFrame.to_pickle(df,style_num)"
   ]
  },
  {
   "cell_type": "code",
   "execution_count": 7,
   "metadata": {},
   "outputs": [
    {
     "ename": "ValueError",
     "evalue": "could not convert string to float: 'No create an account now.\\n\\nYes my password is:\\n\\n\\nForgot your password?'",
     "output_type": "error",
     "traceback": [
      "\u001b[0;31m---------------------------------------------------------------------------\u001b[0m",
      "\u001b[0;31mValueError\u001b[0m                                Traceback (most recent call last)",
      "\u001b[0;32m<timed eval>\u001b[0m in \u001b[0;36m<module>\u001b[0;34m()\u001b[0m\n",
      "\u001b[0;32m<ipython-input-6-a95740ed7aae>\u001b[0m in \u001b[0;36mcompile_beer_info\u001b[0;34m()\u001b[0m\n\u001b[1;32m     18\u001b[0m             \u001b[0murl\u001b[0m \u001b[0;34m=\u001b[0m \u001b[0mopen_new_style_page\u001b[0m\u001b[0;34m(\u001b[0m\u001b[0mstyle_link\u001b[0m\u001b[0;34m,\u001b[0m\u001b[0mcounter\u001b[0m\u001b[0;34m)\u001b[0m\u001b[0;34m\u001b[0m\u001b[0;34m\u001b[0m\u001b[0m\n\u001b[1;32m     19\u001b[0m \u001b[0;34m\u001b[0m\u001b[0m\n\u001b[0;32m---> 20\u001b[0;31m             \u001b[0mbeer_info_df\u001b[0m \u001b[0;34m=\u001b[0m \u001b[0mget_beer_info\u001b[0m\u001b[0;34m(\u001b[0m\u001b[0murl\u001b[0m\u001b[0;34m)\u001b[0m\u001b[0;34m\u001b[0m\u001b[0;34m\u001b[0m\u001b[0m\n\u001b[0m\u001b[1;32m     21\u001b[0m \u001b[0;34m\u001b[0m\u001b[0m\n\u001b[1;32m     22\u001b[0m             \u001b[0mdf\u001b[0m \u001b[0;34m=\u001b[0m \u001b[0mpd\u001b[0m\u001b[0;34m.\u001b[0m\u001b[0mconcat\u001b[0m\u001b[0;34m(\u001b[0m\u001b[0;34m(\u001b[0m\u001b[0mdf\u001b[0m\u001b[0;34m,\u001b[0m\u001b[0mbeer_info_df\u001b[0m\u001b[0;34m)\u001b[0m\u001b[0;34m,\u001b[0m\u001b[0maxis\u001b[0m\u001b[0;34m=\u001b[0m\u001b[0;36m0\u001b[0m\u001b[0;34m)\u001b[0m\u001b[0;34m\u001b[0m\u001b[0;34m\u001b[0m\u001b[0m\n",
      "\u001b[0;32m~/Documents/Data_science/GitHub/Beergression/00_Gathering_Data/Scraping_Library.py\u001b[0m in \u001b[0;36mget_beer_info\u001b[0;34m(url)\u001b[0m\n\u001b[1;32m    202\u001b[0m             \u001b[0mclean_item\u001b[0m \u001b[0;34m=\u001b[0m \u001b[0mre\u001b[0m\u001b[0;34m.\u001b[0m\u001b[0msub\u001b[0m\u001b[0;34m(\u001b[0m\u001b[0;34mr'#|%|,'\u001b[0m\u001b[0;34m,\u001b[0m\u001b[0;34m''\u001b[0m\u001b[0;34m,\u001b[0m\u001b[0mitem\u001b[0m\u001b[0;34m)\u001b[0m\u001b[0;34m\u001b[0m\u001b[0;34m\u001b[0m\u001b[0m\n\u001b[1;32m    203\u001b[0m             \u001b[0;32mif\u001b[0m \u001b[0;34m'.'\u001b[0m \u001b[0;32min\u001b[0m \u001b[0mclean_item\u001b[0m\u001b[0;34m:\u001b[0m\u001b[0;34m\u001b[0m\u001b[0;34m\u001b[0m\u001b[0m\n\u001b[0;32m--> 204\u001b[0;31m                 \u001b[0mstats_list\u001b[0m\u001b[0;34m.\u001b[0m\u001b[0mappend\u001b[0m\u001b[0;34m(\u001b[0m\u001b[0mfloat\u001b[0m\u001b[0;34m(\u001b[0m\u001b[0mclean_item\u001b[0m\u001b[0;34m)\u001b[0m\u001b[0;34m)\u001b[0m\u001b[0;34m\u001b[0m\u001b[0;34m\u001b[0m\u001b[0m\n\u001b[0m\u001b[1;32m    205\u001b[0m             \u001b[0;32melse\u001b[0m\u001b[0;34m:\u001b[0m\u001b[0;34m\u001b[0m\u001b[0;34m\u001b[0m\u001b[0m\n\u001b[1;32m    206\u001b[0m                 \u001b[0mstats_list\u001b[0m\u001b[0;34m.\u001b[0m\u001b[0mappend\u001b[0m\u001b[0;34m(\u001b[0m\u001b[0mint\u001b[0m\u001b[0;34m(\u001b[0m\u001b[0mclean_item\u001b[0m\u001b[0;34m)\u001b[0m\u001b[0;34m)\u001b[0m\u001b[0;34m\u001b[0m\u001b[0;34m\u001b[0m\u001b[0m\n",
      "\u001b[0;31mValueError\u001b[0m: could not convert string to float: 'No create an account now.\\n\\nYes my password is:\\n\\n\\nForgot your password?'"
     ]
    }
   ],
   "source": [
    "%%time\n",
    "compile_beer_info()"
   ]
  },
  {
   "cell_type": "code",
   "execution_count": null,
   "metadata": {},
   "outputs": [],
   "source": []
  }
 ],
 "metadata": {
  "kernelspec": {
   "display_name": "Python 3",
   "language": "python",
   "name": "python3"
  },
  "language_info": {
   "codemirror_mode": {
    "name": "ipython",
    "version": 3
   },
   "file_extension": ".py",
   "mimetype": "text/x-python",
   "name": "python",
   "nbconvert_exporter": "python",
   "pygments_lexer": "ipython3",
   "version": "3.7.1"
  }
 },
 "nbformat": 4,
 "nbformat_minor": 2
}
