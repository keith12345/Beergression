{
 "cells": [
  {
   "cell_type": "markdown",
   "metadata": {},
   "source": [
    "# Data Pipeline\n",
    "\n",
    "## Breweries\n",
    "* Remove observations with '`NA`'\n",
    "* Remove observations with Brewery Score of `0`\n",
    "* Convert numeric values to `float`\n",
    "* Convert categorical columns\n",
    "    * Convert `Brewery_Type` to four new columns containing booleans for:\n",
    "        * `Bar`\n",
    "        * `Eatery`\n",
    "        * `Homebrew`\n",
    "        * `Beer-to-go`\n",
    "* Create boolean from notes column indicating whether Brewery has notes\n",
    "* Drop unnecessary columns\n",
    "    * `Brewery_Notes`\n",
    "    * `Brewery_Type`\n",
    "    * `Brewery_Class`\n",
    "    * `pDev` - this is the percent deviation of the scores i.e. results from the score and cannot be used as a predictor.\n",
    "    \n",
    "## Beers\n",
    "\n",
    "\n",
    "\n",
    "## Desired Columns:\n",
    "* Average score by beer\n",
    "* Average Alcohol content of beers\n",
    "* Standard deviation of alcohol content\n",
    "* Counts by type of beer\n",
    "* Percentage of beers by beer style\n",
    "* Region / state / city\n",
    "* Number of styles produced by a brewery\n",
    "* Total number of beers\n",
    "* Average number of beers by style (only counting styles that have at least one beer)\n",
    "* Create boolean based on whether 'Notes' for each brewery exists\n",
    "* Create boolean for each beer whether notes exists.\n",
    "    * Possibly convert to percentage of beers that have notes\n",
    "    * Could also have total beers with notes (boolean probably better)\n",
    "\n",
    "\n",
    "Scrape without subpage\n"
   ]
  },
  {
   "cell_type": "code",
   "execution_count": 1,
   "metadata": {},
   "outputs": [],
   "source": [
    "import os\n",
    "\n",
    "import pandas as pd\n",
    "import numpy as np\n",
    "import matplotlib.pyplot as plt\n",
    "import seaborn as sns\n"
   ]
  },
  {
   "cell_type": "code",
   "execution_count": 2,
   "metadata": {},
   "outputs": [],
   "source": [
    "os.chdir('Data2/')"
   ]
  },
  {
   "cell_type": "markdown",
   "metadata": {},
   "source": [
    "# Breweries"
   ]
  },
  {
   "cell_type": "code",
   "execution_count": 3,
   "metadata": {},
   "outputs": [],
   "source": [
    "brews_df = pd.read_pickle('breweries_with_loc')\n",
    "brews_df.reset_index(inplace=True)\n",
    "brews_df.columns = ['Brewery_Name','Score', 'Brewery_Class', 'Num_Beers', \n",
    "                    'Town', 'State', 'Country', 'Total_Beer_Reviews', \n",
    "                    'Total_Beer_Ratings', 'Brewery_Score', \n",
    "                    'Num_Brewery_Reviews', 'Num_Brewery_Ratings', \n",
    "                    'pDev', 'Brewery_Type', 'Has_Phone', 'Brewery_Notes']"
   ]
  },
  {
   "cell_type": "markdown",
   "metadata": {},
   "source": [
    "##### Looking at our data"
   ]
  },
  {
   "cell_type": "markdown",
   "metadata": {},
   "source": [
    "``` python \n",
    "i = 0 \n",
    "while i < 15:\n",
    "    print(brews_df.iloc[:,i].value_counts())\n",
    "    i += 1 \n",
    "    ```"
   ]
  },
  {
   "cell_type": "markdown",
   "metadata": {},
   "source": [
    "### Removing rows with `'NA'` values"
   ]
  },
  {
   "cell_type": "markdown",
   "metadata": {},
   "source": [
    "This reduces the number of entries from ????? to 8630. Close to a 50% reduction. While it is unfortunate to lose such a significant portion of a dataset, **all????** of the observations that were removed did not contain a Brewery Score and thus would help in neither training nor testing of the model."
   ]
  },
  {
   "cell_type": "markdown",
   "metadata": {},
   "source": [
    "Convert to `'NA'` to `np.nan` "
   ]
  },
  {
   "cell_type": "code",
   "execution_count": 4,
   "metadata": {},
   "outputs": [],
   "source": [
    "brews_df.replace('NA',np.nan,inplace=True)\n",
    "brews_df.dropna(inplace=True)"
   ]
  },
  {
   "cell_type": "markdown",
   "metadata": {},
   "source": [
    "### Removing rows with Score of zero"
   ]
  },
  {
   "cell_type": "markdown",
   "metadata": {},
   "source": [
    "In addition to removing Breweries with no score, we've also removed Breweries with a score of zero as they were a clear outlier within the distribution. I believe that Breweries which have yet to receive any reviews either had no value ('NA') or a value of zero. This reduced the total number of Breweries in the dataset to 8153."
   ]
  },
  {
   "cell_type": "code",
   "execution_count": 5,
   "metadata": {},
   "outputs": [
    {
     "data": {
      "image/png": "[encoded data removed]",
      "text/plain": [
       "<Figure size 432x288 with 1 Axes>"
      ]
     },
     "metadata": {
      "needs_background": "light"
     },
     "output_type": "display_data"
    }
   ],
   "source": [
    "brews_df['Score'] = brews_df['Score'].apply(float)\n",
    "brews_df['Score'].hist(bins = 50);"
   ]
  },
  {
   "cell_type": "code",
   "execution_count": 6,
   "metadata": {},
   "outputs": [
    {
     "data": {
      "image/png": "[encoded data removed]",
      "text/plain": [
       "<Figure size 432x288 with 1 Axes>"
      ]
     },
     "metadata": {
      "needs_background": "light"
     },
     "output_type": "display_data"
    }
   ],
   "source": [
    "brews_df.replace(0,np.nan,inplace=True)\n",
    "brews_df.dropna(inplace=True)\n",
    "brews_df['Score'].hist(bins = 50);"
   ]
  },
  {
   "cell_type": "markdown",
   "metadata": {},
   "source": [
    "### Convert remaining values to numeric where applicable"
   ]
  },
  {
   "cell_type": "code",
   "execution_count": 7,
   "metadata": {},
   "outputs": [],
   "source": [
    "i = 0 \n",
    "while i < 15:\n",
    "    try:\n",
    "        brews_df.iloc[:,i] = brews_df.iloc[:,i].apply(float)\n",
    "    except:\n",
    "        continue\n",
    "    i += 1"
   ]
  },
  {
   "cell_type": "markdown",
   "metadata": {},
   "source": [
    "### Convert Categorical Columns"
   ]
  },
  {
   "cell_type": "markdown",
   "metadata": {},
   "source": [
    "##### Convert b_type (Brewery Type) to dummies"
   ]
  },
  {
   "cell_type": "markdown",
   "metadata": {},
   "source": [
    "The assumption in converting Brewery Type to dummies is that the functionality of the brewery, meaning whether one can eat there (i.e. is it also a restaurant) whether they have a bar, etc., may correlate to their score. It is also possible that the particular functionality might be irrelevant and that simply having greater functionality may boost the score (or even reduce it). In such a case we could take the sum of the newly created `'Bar'`, `'Eatery'`, `'Homebrew'`, and `'Beer-to-go'` columns.  \n",
    "Note that we do not use `.get_dummies()` as it is possible for a brewery to be both a bar, eatery, etc. "
   ]
  },
  {
   "cell_type": "code",
   "execution_count": 8,
   "metadata": {},
   "outputs": [],
   "source": [
    "brews_df['Bar'] = brews_df.Brewery_Type.str.contains('Bar')\n",
    "brews_df['Eatery'] = brews_df.Brewery_Type.str.contains('Eatery')\n",
    "brews_df['Homebrew'] = brews_df.Brewery_Type.str.contains('Homebrew')\n",
    "brews_df['Beer-to-go'] = brews_df.Brewery_Type.str.contains('Beer-to-go')"
   ]
  },
  {
   "cell_type": "markdown",
   "metadata": {},
   "source": [
    "Creating a column containing a boolean value indicating whether a Brewery has notes on their brewery page within Beer Advocate. I believe this may have an impact on a Brewery's score as people may go onto a Brewery's page to research. Some Breweries may indicate hours (or days) of operation. Having a description can help reduce potential points of friction in a customer's relationship with a Brewery thus leading to the customer giving the Brewery a higher score."
   ]
  },
  {
   "cell_type": "code",
   "execution_count": 9,
   "metadata": {},
   "outputs": [],
   "source": [
    "brews_df['Has_Notes'] = brews_df.Brewery_Notes.str.contains('No notes at this time.')\n",
    "brews_df.drop(['Brewery_Notes','Brewery_Type','Brewery_Class','pDev'],inplace=True,axis=1)"
   ]
  },
  {
   "cell_type": "markdown",
   "metadata": {},
   "source": [
    "Note that we'll leave the Brewery_Name column for now as it will be used to join the beer data with the brewery data."
   ]
  },
  {
   "cell_type": "code",
   "execution_count": 10,
   "metadata": {},
   "outputs": [
    {
     "data": {
      "text/html": [
       "<div>\n",
       "<style scoped>\n",
       "    .dataframe tbody tr th:only-of-type {\n",
       "        vertical-align: middle;\n",
       "    }\n",
       "\n",
       "    .dataframe tbody tr th {\n",
       "        vertical-align: top;\n",
       "    }\n",
       "\n",
       "    .dataframe thead th {\n",
       "        text-align: right;\n",
       "    }\n",
       "</style>\n",
       "<table border=\"1\" class=\"dataframe\">\n",
       "  <thead>\n",
       "    <tr style=\"text-align: right;\">\n",
       "      <th></th>\n",
       "      <th>Brewery_Name</th>\n",
       "      <th>Score</th>\n",
       "      <th>Num_Beers</th>\n",
       "      <th>Town</th>\n",
       "      <th>State</th>\n",
       "      <th>Country</th>\n",
       "      <th>Total_Beer_Reviews</th>\n",
       "      <th>Total_Beer_Ratings</th>\n",
       "      <th>Brewery_Score</th>\n",
       "      <th>Num_Brewery_Reviews</th>\n",
       "      <th>Num_Brewery_Ratings</th>\n",
       "      <th>Has_Phone</th>\n",
       "      <th>Bar</th>\n",
       "      <th>Eatery</th>\n",
       "      <th>Homebrew</th>\n",
       "      <th>Beer-to-go</th>\n",
       "      <th>Has_Notes</th>\n",
       "    </tr>\n",
       "  </thead>\n",
       "  <tbody>\n",
       "    <tr>\n",
       "      <th>0</th>\n",
       "      <td>Guinness Ltd.</td>\n",
       "      <td>3.45</td>\n",
       "      <td>48.0</td>\n",
       "      <td>Dublin</td>\n",
       "      <td>Ireland</td>\n",
       "      <td>Ireland</td>\n",
       "      <td>8736.0</td>\n",
       "      <td>29518.0</td>\n",
       "      <td>3.92</td>\n",
       "      <td>2.0</td>\n",
       "      <td>6.0</td>\n",
       "      <td>0.0</td>\n",
       "      <td>True</td>\n",
       "      <td>True</td>\n",
       "      <td>False</td>\n",
       "      <td>True</td>\n",
       "      <td>True</td>\n",
       "    </tr>\n",
       "    <tr>\n",
       "      <th>2</th>\n",
       "      <td>Ballast Point Brewing Company</td>\n",
       "      <td>3.91</td>\n",
       "      <td>175.0</td>\n",
       "      <td>San Diego</td>\n",
       "      <td>California</td>\n",
       "      <td>United States</td>\n",
       "      <td>14500.0</td>\n",
       "      <td>66988.0</td>\n",
       "      <td>4.34</td>\n",
       "      <td>70.0</td>\n",
       "      <td>405.0</td>\n",
       "      <td>1.0</td>\n",
       "      <td>True</td>\n",
       "      <td>False</td>\n",
       "      <td>False</td>\n",
       "      <td>False</td>\n",
       "      <td>False</td>\n",
       "    </tr>\n",
       "    <tr>\n",
       "      <th>3</th>\n",
       "      <td>Left Hand Brewing Company</td>\n",
       "      <td>3.78</td>\n",
       "      <td>70.0</td>\n",
       "      <td>Longmont</td>\n",
       "      <td>Colorado</td>\n",
       "      <td>United States</td>\n",
       "      <td>7749.0</td>\n",
       "      <td>26500.0</td>\n",
       "      <td>4.25</td>\n",
       "      <td>47.0</td>\n",
       "      <td>179.0</td>\n",
       "      <td>1.0</td>\n",
       "      <td>True</td>\n",
       "      <td>False</td>\n",
       "      <td>False</td>\n",
       "      <td>True</td>\n",
       "      <td>True</td>\n",
       "    </tr>\n",
       "    <tr>\n",
       "      <th>6</th>\n",
       "      <td>Pike Brewing Company</td>\n",
       "      <td>3.68</td>\n",
       "      <td>46.0</td>\n",
       "      <td>Seattle</td>\n",
       "      <td>Washington</td>\n",
       "      <td>United States</td>\n",
       "      <td>1722.0</td>\n",
       "      <td>3761.0</td>\n",
       "      <td>3.89</td>\n",
       "      <td>107.0</td>\n",
       "      <td>197.0</td>\n",
       "      <td>1.0</td>\n",
       "      <td>True</td>\n",
       "      <td>True</td>\n",
       "      <td>False</td>\n",
       "      <td>True</td>\n",
       "      <td>True</td>\n",
       "    </tr>\n",
       "    <tr>\n",
       "      <th>7</th>\n",
       "      <td>Brouwerij De Dolle Brouwers</td>\n",
       "      <td>4.17</td>\n",
       "      <td>9.0</td>\n",
       "      <td>Esen</td>\n",
       "      <td>Belgium</td>\n",
       "      <td>Belgium</td>\n",
       "      <td>2525.0</td>\n",
       "      <td>4849.0</td>\n",
       "      <td>4.47</td>\n",
       "      <td>15.0</td>\n",
       "      <td>26.0</td>\n",
       "      <td>1.0</td>\n",
       "      <td>True</td>\n",
       "      <td>True</td>\n",
       "      <td>False</td>\n",
       "      <td>False</td>\n",
       "      <td>False</td>\n",
       "    </tr>\n",
       "  </tbody>\n",
       "</table>\n",
       "</div>"
      ],
      "text/plain": [
       "                    Brewery_Name  Score  Num_Beers       Town       State  \\\n",
       "0                  Guinness Ltd.   3.45       48.0     Dublin     Ireland   \n",
       "2  Ballast Point Brewing Company   3.91      175.0  San Diego  California   \n",
       "3      Left Hand Brewing Company   3.78       70.0   Longmont    Colorado   \n",
       "6           Pike Brewing Company   3.68       46.0    Seattle  Washington   \n",
       "7    Brouwerij De Dolle Brouwers   4.17        9.0       Esen     Belgium   \n",
       "\n",
       "         Country  Total_Beer_Reviews  Total_Beer_Ratings  Brewery_Score  \\\n",
       "0        Ireland              8736.0             29518.0           3.92   \n",
       "2  United States             14500.0             66988.0           4.34   \n",
       "3  United States              7749.0             26500.0           4.25   \n",
       "6  United States              1722.0              3761.0           3.89   \n",
       "7        Belgium              2525.0              4849.0           4.47   \n",
       "\n",
       "   Num_Brewery_Reviews  Num_Brewery_Ratings  Has_Phone   Bar  Eatery  \\\n",
       "0                  2.0                  6.0        0.0  True    True   \n",
       "2                 70.0                405.0        1.0  True   False   \n",
       "3                 47.0                179.0        1.0  True   False   \n",
       "6                107.0                197.0        1.0  True    True   \n",
       "7                 15.0                 26.0        1.0  True    True   \n",
       "\n",
       "   Homebrew  Beer-to-go  Has_Notes  \n",
       "0     False        True       True  \n",
       "2     False       False      False  \n",
       "3     False        True       True  \n",
       "6     False        True       True  \n",
       "7     False       False      False  "
      ]
     },
     "execution_count": 10,
     "metadata": {},
     "output_type": "execute_result"
    }
   ],
   "source": [
    "brews_df.head()"
   ]
  },
  {
   "cell_type": "markdown",
   "metadata": {},
   "source": [
    "# Beers"
   ]
  },
  {
   "cell_type": "markdown",
   "metadata": {},
   "source": [
    "The below was used to open all folders "
   ]
  },
  {
   "cell_type": "markdown",
   "metadata": {},
   "source": [
    "``` python\n",
    "data_fols = os.listdir()\n",
    "\n",
    "style_nums = []\n",
    "\n",
    "for fol in data_fols:\n",
    "    try:\n",
    "        int(fol)\n",
    "        style_nums.append(str(fol))\n",
    "    except:\n",
    "        pass\n",
    "\n",
    "beers_df = pd.DataFrame(columns = ['beer_name','brewery_name','abv',\n",
    "                             'ratings','score','brewery_nums'])\n",
    "\n",
    "for num in style_nums:\n",
    "    pickled = pd.read_pickle(num)\n",
    "    beers_df = pd.concat([beers_df,pickled],sort=True)\n",
    "    \n",
    "beers_df.columns = ['ABV','Beer_Name','Brewery_Name',\n",
    "                    'Brewery_Num','Num_Beer_Ratings',\n",
    "                    'Beer_Score','Beer_Style']\n",
    "    \n",
    "pd.to_pickle(beers_df,'Beer_Data')\n",
    "\n",
    "```"
   ]
  },
  {
   "cell_type": "code",
   "execution_count": 9,
   "metadata": {},
   "outputs": [],
   "source": [
    "beers_df = pd.read_pickle('Beer_Data')"
   ]
  },
  {
   "cell_type": "markdown",
   "metadata": {},
   "source": [
    "get_dummies() of the beer style (keep all columns) and then groupby by brewery and take the sum."
   ]
  },
  {
   "cell_type": "code",
   "execution_count": 10,
   "metadata": {},
   "outputs": [
    {
     "data": {
      "text/html": [
       "<div>\n",
       "<style scoped>\n",
       "    .dataframe tbody tr th:only-of-type {\n",
       "        vertical-align: middle;\n",
       "    }\n",
       "\n",
       "    .dataframe tbody tr th {\n",
       "        vertical-align: top;\n",
       "    }\n",
       "\n",
       "    .dataframe thead th {\n",
       "        text-align: right;\n",
       "    }\n",
       "</style>\n",
       "<table border=\"1\" class=\"dataframe\">\n",
       "  <thead>\n",
       "    <tr style=\"text-align: right;\">\n",
       "      <th></th>\n",
       "      <th>ABV</th>\n",
       "      <th>Beer_Name</th>\n",
       "      <th>Brewery_Name</th>\n",
       "      <th>Brewery_Num</th>\n",
       "      <th>Num_Beer_Ratings</th>\n",
       "      <th>Beer_Score</th>\n",
       "      <th>Beer_Style</th>\n",
       "    </tr>\n",
       "  </thead>\n",
       "  <tbody>\n",
       "    <tr>\n",
       "      <th>0</th>\n",
       "      <td>7.50</td>\n",
       "      <td>Guinness Foreign Extra Stout</td>\n",
       "      <td>Guinness Ltd.</td>\n",
       "      <td>209</td>\n",
       "      <td>2,468</td>\n",
       "      <td>4.06</td>\n",
       "      <td>Foreign / Export Stout</td>\n",
       "    </tr>\n",
       "    <tr>\n",
       "      <th>1</th>\n",
       "      <td>8.80</td>\n",
       "      <td>Lion Stout</td>\n",
       "      <td>Ceylon / Lion Brewery Limited</td>\n",
       "      <td>389</td>\n",
       "      <td>1,655</td>\n",
       "      <td>3.91</td>\n",
       "      <td>Foreign / Export Stout</td>\n",
       "    </tr>\n",
       "    <tr>\n",
       "      <th>2</th>\n",
       "      <td>7.00</td>\n",
       "      <td>Indra Kunindra</td>\n",
       "      <td>Ballast Point Brewing Company</td>\n",
       "      <td>199</td>\n",
       "      <td>1,285</td>\n",
       "      <td>3.67</td>\n",
       "      <td>Foreign / Export Stout</td>\n",
       "    </tr>\n",
       "    <tr>\n",
       "      <th>3</th>\n",
       "      <td>8.50</td>\n",
       "      <td>Fade To Black - Volume 1</td>\n",
       "      <td>Left Hand Brewing Company</td>\n",
       "      <td>418</td>\n",
       "      <td>1,023</td>\n",
       "      <td>4.08</td>\n",
       "      <td>Foreign / Export Stout</td>\n",
       "    </tr>\n",
       "    <tr>\n",
       "      <th>4</th>\n",
       "      <td>6.30</td>\n",
       "      <td>Best Extra Stout</td>\n",
       "      <td>Coopers Brewery Limited</td>\n",
       "      <td>491</td>\n",
       "      <td>691</td>\n",
       "      <td>3.84</td>\n",
       "      <td>Foreign / Export Stout</td>\n",
       "    </tr>\n",
       "  </tbody>\n",
       "</table>\n",
       "</div>"
      ],
      "text/plain": [
       "    ABV                     Beer_Name                   Brewery_Name  \\\n",
       "0  7.50  Guinness Foreign Extra Stout                  Guinness Ltd.   \n",
       "1  8.80                    Lion Stout  Ceylon / Lion Brewery Limited   \n",
       "2  7.00                Indra Kunindra  Ballast Point Brewing Company   \n",
       "3  8.50      Fade To Black - Volume 1      Left Hand Brewing Company   \n",
       "4  6.30              Best Extra Stout        Coopers Brewery Limited   \n",
       "\n",
       "  Brewery_Num Num_Beer_Ratings Beer_Score              Beer_Style  \n",
       "0         209            2,468       4.06  Foreign / Export Stout  \n",
       "1         389            1,655       3.91  Foreign / Export Stout  \n",
       "2         199            1,285       3.67  Foreign / Export Stout  \n",
       "3         418            1,023       4.08  Foreign / Export Stout  \n",
       "4         491              691       3.84  Foreign / Export Stout  "
      ]
     },
     "execution_count": 10,
     "metadata": {},
     "output_type": "execute_result"
    }
   ],
   "source": [
    "beers_df.head()"
   ]
  },
  {
   "cell_type": "code",
   "execution_count": 31,
   "metadata": {},
   "outputs": [
    {
     "name": "stdout",
     "output_type": "stream",
     "text": [
      "<class 'pandas.core.frame.DataFrame'>\n",
      "Int64Index: 252588 entries, 0 to 38\n",
      "Data columns (total 7 columns):\n",
      "abv             252588 non-null object\n",
      "beer_name       252588 non-null object\n",
      "brewery_name    252588 non-null object\n",
      "brewery_nums    252588 non-null object\n",
      "ratings         252588 non-null object\n",
      "score           252588 non-null object\n",
      "style           252588 non-null object\n",
      "dtypes: object(7)\n",
      "memory usage: 15.4+ MB\n"
     ]
    }
   ],
   "source": [
    "beers_df.info()"
   ]
  },
  {
   "cell_type": "code",
   "execution_count": null,
   "metadata": {},
   "outputs": [],
   "source": []
  }
 ],
 "metadata": {
  "kernelspec": {
   "display_name": "Python 3",
   "language": "python",
   "name": "python3"
  },
  "language_info": {
   "codemirror_mode": {
    "name": "ipython",
    "version": 3
   },
   "file_extension": ".py",
   "mimetype": "text/x-python",
   "name": "python",
   "nbconvert_exporter": "python",
   "pygments_lexer": "ipython3",
   "version": "3.7.1"
  }
 },
 "nbformat": 4,
 "nbformat_minor": 2
}
