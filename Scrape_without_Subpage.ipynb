{
 "cells": [
  {
   "cell_type": "code",
   "execution_count": 1,
   "metadata": {},
   "outputs": [],
   "source": [
    "import requests\n",
    "from bs4 import BeautifulSoup\n",
    "import re\n",
    "import time\n",
    "import numpy as np\n",
    "import pandas as pd\n",
    "import pickle"
   ]
  },
  {
   "cell_type": "code",
   "execution_count": 2,
   "metadata": {},
   "outputs": [],
   "source": [
    "def get_style_links():\n",
    "    # we start on the styles page because it is the easiest page \n",
    "    # from which to access all beers\n",
    "    \n",
    "    followable_links = []\n",
    "    url = 'https://www.beeradvocate.com/beer/styles/'\n",
    "    response = requests.get(url)\n",
    "    page = response.text\n",
    "    soup = BeautifulSoup(page, \"lxml\")\n",
    "    \n",
    "    # get style links\n",
    "\n",
    "    styles_links = [link for link in soup.find_all('a') if 'beer/styles' in str(link)]\n",
    "\n",
    "    styles_nums = []\n",
    "\n",
    "    for link in styles_links[2:]:\n",
    "        styles_nums.append(str(link).split('/')[3])\n",
    "        \n",
    "    styles_nums = sorted(styles_nums)[1:]\n",
    "    \n",
    "    for num in styles_nums:\n",
    "        followable_links.append(url + num)\n",
    "    \n",
    "    return followable_links, styles_nums"
   ]
  },
  {
   "cell_type": "code",
   "execution_count": 3,
   "metadata": {},
   "outputs": [
    {
     "name": "stdout",
     "output_type": "stream",
     "text": [
      "https://www.beeradvocate.com/beer/styles/10\n"
     ]
    },
    {
     "data": {
      "text/plain": [
       "str"
      ]
     },
     "execution_count": 3,
     "metadata": {},
     "output_type": "execute_result"
    }
   ],
   "source": [
    "style_links, style_nums = get_style_links()\n",
    "print(style_links[0])\n",
    "type(style_nums[0])"
   ]
  },
  {
   "cell_type": "code",
   "execution_count": 44,
   "metadata": {},
   "outputs": [],
   "source": [
    "def get_beer_info(url):\n",
    "    \n",
    "    response = requests.get(url)\n",
    "    page = response.text\n",
    "    soup = BeautifulSoup(page, \"lxml\")\n",
    "    \n",
    "    beer_info_td_s = soup.select('td[class*=\"hr_bottom_light\"]')\n",
    "    beer_info_list = [td.text for td in beer_info_td_s]\n",
    "    \n",
    "    rearranger = int(len(beer_info_list)/6)\n",
    "    \n",
    "    style_div = soup.select(\"div[class*=titleBar]\")\n",
    "    style_string = style_div[0].text\n",
    "    style = re.sub(r'\\n','',style_string)\n",
    "    style = ((style + '!')*rearranger).split('!')[0:rearranger]\n",
    "\n",
    "    beer_name = beer_info_list[::6]\n",
    "    brewery_name = beer_info_list[1::6]\n",
    "    abv = beer_info_list[2::6]\n",
    "    ratings = beer_info_list[3::6]\n",
    "    score = beer_info_list[4::6]\n",
    "\n",
    "    beer_and_brewery_names_links = soup.select(\"a[href*=/beer/profile/]\")\n",
    "\n",
    "    brewery_nums = []\n",
    "\n",
    "    for link in beer_and_brewery_names_links[1::2]:\n",
    "        brew_num_string_list = str(link).split('/')\n",
    "        brew_num = brew_num_string_list[3]\n",
    "        brewery_nums.append(brew_num)\n",
    "\n",
    "    data = np.array([beer_name,brewery_name,abv,\n",
    "                     ratings,score,brewery_nums]).reshape(rearranger,6)\n",
    "\n",
    "    df = pd.DataFrame(data=[beer_name,brewery_name,style,abv,\n",
    "                     ratings,score,brewery_nums])\n",
    "\n",
    "    df = df.transpose()\n",
    "\n",
    "    df.columns = ['beer_name','brewery_name','style','abv',\n",
    "                     'ratings','score','brewery_nums']\n",
    "    \n",
    "    return df"
   ]
  },
  {
   "cell_type": "code",
   "execution_count": 45,
   "metadata": {},
   "outputs": [
    {
     "data": {
      "text/html": [
       "<div>\n",
       "<style scoped>\n",
       "    .dataframe tbody tr th:only-of-type {\n",
       "        vertical-align: middle;\n",
       "    }\n",
       "\n",
       "    .dataframe tbody tr th {\n",
       "        vertical-align: top;\n",
       "    }\n",
       "\n",
       "    .dataframe thead th {\n",
       "        text-align: right;\n",
       "    }\n",
       "</style>\n",
       "<table border=\"1\" class=\"dataframe\">\n",
       "  <thead>\n",
       "    <tr style=\"text-align: right;\">\n",
       "      <th></th>\n",
       "      <th>beer_name</th>\n",
       "      <th>brewery_name</th>\n",
       "      <th>style</th>\n",
       "      <th>abv</th>\n",
       "      <th>ratings</th>\n",
       "      <th>score</th>\n",
       "      <th>brewery_nums</th>\n",
       "    </tr>\n",
       "  </thead>\n",
       "  <tbody>\n",
       "    <tr>\n",
       "      <th>0</th>\n",
       "      <td>Cantillon Fou' Foune</td>\n",
       "      <td>Brasserie Cantillon</td>\n",
       "      <td>Belgian Fruit Lambic</td>\n",
       "      <td>5.00</td>\n",
       "      <td>3,079</td>\n",
       "      <td>4.65</td>\n",
       "      <td>388</td>\n",
       "    </tr>\n",
       "    <tr>\n",
       "      <th>1</th>\n",
       "      <td>Lindemans Framboise</td>\n",
       "      <td>Brouwerij Lindemans</td>\n",
       "      <td>Belgian Fruit Lambic</td>\n",
       "      <td>2.50</td>\n",
       "      <td>2,884</td>\n",
       "      <td>3.88</td>\n",
       "      <td>187</td>\n",
       "    </tr>\n",
       "  </tbody>\n",
       "</table>\n",
       "</div>"
      ],
      "text/plain": [
       "              beer_name         brewery_name                 style   abv  \\\n",
       "0  Cantillon Fou' Foune  Brasserie Cantillon  Belgian Fruit Lambic  5.00   \n",
       "1   Lindemans Framboise  Brouwerij Lindemans  Belgian Fruit Lambic  2.50   \n",
       "\n",
       "  ratings score brewery_nums  \n",
       "0   3,079  4.65          388  \n",
       "1   2,884  3.88          187  "
      ]
     },
     "execution_count": 45,
     "metadata": {},
     "output_type": "execute_result"
    }
   ],
   "source": [
    "df = get_beer_info('https://www.beeradvocate.com/beer/styles/10')\n",
    "df.head(2)"
   ]
  },
  {
   "cell_type": "markdown",
   "metadata": {},
   "source": [
    "**psuedo code**"
   ]
  },
  {
   "cell_type": "code",
   "execution_count": 9,
   "metadata": {},
   "outputs": [],
   "source": [
    "def get_style_max(url):\n",
    "\n",
    "    response = requests.get(url)\n",
    "    page = response.text\n",
    "    soup = BeautifulSoup(page, \"lxml\")\n",
    "    \n",
    "    try:\n",
    "        style_max_ref = soup.find_all('a')[-137]\n",
    "        style_max = re.split(r'=|\"', str(style_max_ref))[-2]\n",
    "        style_max = int(style_max)\n",
    "    except:\n",
    "        style_max = 0\n",
    "    \n",
    "    return style_max"
   ]
  },
  {
   "cell_type": "code",
   "execution_count": 10,
   "metadata": {},
   "outputs": [],
   "source": [
    "def open_new_style_page(url,counter):\n",
    "    out = url + '/?sort=revsD&start=' + str(counter)\n",
    "    \n",
    "    return out\n",
    "    "
   ]
  },
  {
   "cell_type": "code",
   "execution_count": 11,
   "metadata": {},
   "outputs": [
    {
     "data": {
      "text/plain": [
       "'https://www.beeradvocate.com/beer/styles/10/?sort=revsD&start=0'"
      ]
     },
     "execution_count": 11,
     "metadata": {},
     "output_type": "execute_result"
    }
   ],
   "source": [
    "open_new_style_page(style_links[0],0)"
   ]
  },
  {
   "cell_type": "markdown",
   "metadata": {},
   "source": [
    "# Master Function"
   ]
  },
  {
   "cell_type": "code",
   "execution_count": 47,
   "metadata": {},
   "outputs": [],
   "source": [
    "def compile_beer_info():\n",
    "    \n",
    "    style_links, style_nums = get_style_links()\n",
    "    \n",
    "    i = 1\n",
    "    \n",
    "    for style_link, style_num in zip(style_links, style_nums):\n",
    "        \n",
    "        df = pd.DataFrame(columns = ['beer_name','brewery_name','abv',\n",
    "                             'ratings','score','brewery_nums'])\n",
    "        \n",
    "        style_max = get_style_max(style_link)\n",
    "        \n",
    "        counter = 0\n",
    "\n",
    "        while counter <= style_max:        \n",
    "\n",
    "            url = open_new_style_page(style_link,counter)\n",
    "\n",
    "            beer_info_df = get_beer_info(url)\n",
    "            \n",
    "            df = pd.concat((df,beer_info_df),axis=0)\n",
    "            \n",
    "            time.sleep(np.random.poisson(10)/100)\n",
    "            \n",
    "            counter += 50\n",
    "        \n",
    "        print('completed pass ' + str(i))\n",
    "        \n",
    "        i += 1\n",
    "        \n",
    "        pd.DataFrame.to_pickle(df,style_num)"
   ]
  },
  {
   "cell_type": "code",
   "execution_count": 49,
   "metadata": {},
   "outputs": [],
   "source": [
    "compile_beer_info()"
   ]
  }
 ],
 "metadata": {
  "kernelspec": {
   "display_name": "Python 3",
   "language": "python",
   "name": "python3"
  },
  "language_info": {
   "codemirror_mode": {
    "name": "ipython",
    "version": 3
   },
   "file_extension": ".py",
   "mimetype": "text/x-python",
   "name": "python",
   "nbconvert_exporter": "python",
   "pygments_lexer": "ipython3",
   "version": "3.7.1"
  }
 },
 "nbformat": 4,
 "nbformat_minor": 2
}
