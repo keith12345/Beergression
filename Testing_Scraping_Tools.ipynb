{
 "cells": [
  {
   "cell_type": "code",
   "execution_count": 1,
   "metadata": {},
   "outputs": [],
   "source": [
    "import requests\n",
    "from bs4 import BeautifulSoup\n",
    "import re"
   ]
  },
  {
   "cell_type": "markdown",
   "metadata": {},
   "source": [
    "# Possible features to add?\n",
    "* Number of employees at brewery\n",
    "* Numbers of beers by brewery\n",
    "* Age of brewery\n",
    "* Economic climate surrounding brewery locations (average incomes)\n",
    "* Number of locations for brewery\n",
    "* I feel like I need something closer to amounts of:\n",
    "    * Hops\n",
    "    * wheat\n",
    "    * barly\n",
    "    * water mineral content"
   ]
  },
  {
   "cell_type": "markdown",
   "metadata": {},
   "source": [
    "# Accessing the page"
   ]
  },
  {
   "cell_type": "markdown",
   "metadata": {},
   "source": [
    "Planning on doing everything form the beer styles page as that seems to be the easiest page from which to access all beers."
   ]
  },
  {
   "cell_type": "code",
   "execution_count": 2,
   "metadata": {},
   "outputs": [],
   "source": [
    "url = 'https://www.beeradvocate.com/beer/styles/'\n",
    "\n",
    "response = requests.get(url)"
   ]
  },
  {
   "cell_type": "code",
   "execution_count": 3,
   "metadata": {},
   "outputs": [
    {
     "data": {
      "text/plain": [
       "200"
      ]
     },
     "execution_count": 3,
     "metadata": {},
     "output_type": "execute_result"
    }
   ],
   "source": [
    "response.status_code # status code = 200 => OK"
   ]
  },
  {
   "cell_type": "code",
   "execution_count": 4,
   "metadata": {},
   "outputs": [],
   "source": [
    "# print(response.text)"
   ]
  },
  {
   "cell_type": "code",
   "execution_count": 5,
   "metadata": {},
   "outputs": [],
   "source": [
    "page = response.text"
   ]
  },
  {
   "cell_type": "code",
   "execution_count": 6,
   "metadata": {},
   "outputs": [],
   "source": [
    "soup = BeautifulSoup(page, \"lxml\")"
   ]
  },
  {
   "cell_type": "code",
   "execution_count": 7,
   "metadata": {},
   "outputs": [],
   "source": [
    "# print(soup.prettify())"
   ]
  },
  {
   "cell_type": "markdown",
   "metadata": {},
   "source": [
    "# Creating Styles Lists"
   ]
  },
  {
   "cell_type": "code",
   "execution_count": 8,
   "metadata": {},
   "outputs": [],
   "source": [
    "styles_links = [link for link in soup.find_all('a') if 'beer/styles' in str(link)]"
   ]
  },
  {
   "cell_type": "code",
   "execution_count": 9,
   "metadata": {},
   "outputs": [
    {
     "data": {
      "text/plain": [
       "<a href=\"/beer/styles/\">Beer Styles</a>"
      ]
     },
     "execution_count": 9,
     "metadata": {},
     "output_type": "execute_result"
    }
   ],
   "source": [
    "styles_links[0]"
   ]
  },
  {
   "cell_type": "markdown",
   "metadata": {},
   "source": [
    "### Styles Numbers"
   ]
  },
  {
   "cell_type": "code",
   "execution_count": 10,
   "metadata": {},
   "outputs": [],
   "source": [
    "styles_nums = []\n",
    "\n",
    "for link in styles_links[2:]:\n",
    "    styles_nums.append(str(link).split('/')[3])"
   ]
  },
  {
   "cell_type": "code",
   "execution_count": 11,
   "metadata": {},
   "outputs": [
    {
     "data": {
      "text/plain": [
       "['#XenForo\"><i class=\"uix_icon uix_icon-jumpToTop\"><',\n",
       " '10',\n",
       " '101',\n",
       " '11',\n",
       " '114']"
      ]
     },
     "execution_count": 11,
     "metadata": {},
     "output_type": "execute_result"
    }
   ],
   "source": [
    "sorted(styles_nums)[:5]"
   ]
  },
  {
   "cell_type": "code",
   "execution_count": 12,
   "metadata": {},
   "outputs": [],
   "source": [
    "styles_nums = sorted(styles_nums)[1:]"
   ]
  },
  {
   "cell_type": "code",
   "execution_count": 13,
   "metadata": {},
   "outputs": [
    {
     "data": {
      "text/plain": [
       "'10'"
      ]
     },
     "execution_count": 13,
     "metadata": {},
     "output_type": "execute_result"
    }
   ],
   "source": [
    "styles_nums[0]"
   ]
  },
  {
   "cell_type": "markdown",
   "metadata": {},
   "source": [
    "### Styles Names"
   ]
  },
  {
   "cell_type": "code",
   "execution_count": 14,
   "metadata": {},
   "outputs": [],
   "source": [
    "styles_names = []\n",
    "\n",
    "for link in styles_links[2:]:\n",
    "    style_name = re.split(r'>|<', str(link))[2]\n",
    "    styles_names.append(style_name)"
   ]
  },
  {
   "cell_type": "code",
   "execution_count": 15,
   "metadata": {},
   "outputs": [
    {
     "data": {
      "text/plain": [
       "'German Bock'"
      ]
     },
     "execution_count": 15,
     "metadata": {},
     "output_type": "execute_result"
    }
   ],
   "source": [
    "styles_names[0]"
   ]
  },
  {
   "cell_type": "code",
   "execution_count": 16,
   "metadata": {},
   "outputs": [
    {
     "data": {
      "text/plain": [
       "['',\n",
       " 'American Adjunct Lager',\n",
       " 'American Amber / Red Ale',\n",
       " 'American Amber / Red Lager',\n",
       " 'American Barleywine']"
      ]
     },
     "execution_count": 16,
     "metadata": {},
     "output_type": "execute_result"
    }
   ],
   "source": [
    "sorted(styles_names)[:5]"
   ]
  },
  {
   "cell_type": "code",
   "execution_count": 17,
   "metadata": {},
   "outputs": [],
   "source": [
    "styles_names = sorted(styles_names)[1:]"
   ]
  },
  {
   "cell_type": "code",
   "execution_count": 18,
   "metadata": {},
   "outputs": [
    {
     "data": {
      "text/plain": [
       "'American Adjunct Lager'"
      ]
     },
     "execution_count": 18,
     "metadata": {},
     "output_type": "execute_result"
    }
   ],
   "source": [
    "styles_names[0]"
   ]
  },
  {
   "cell_type": "markdown",
   "metadata": {},
   "source": [
    "## Creating links to Beer Style Pages"
   ]
  },
  {
   "cell_type": "markdown",
   "metadata": {},
   "source": [
    "Realized that the links don't have descriptions, rather a range of values from ~5 - ~190"
   ]
  },
  {
   "cell_type": "markdown",
   "metadata": {},
   "source": [
    "Using range: *Note that to use this set you'd need to write a pass in the event that the page failed/didn't load*"
   ]
  },
  {
   "cell_type": "code",
   "execution_count": 19,
   "metadata": {},
   "outputs": [],
   "source": [
    "url = 'https://www.beeradvocate.com/beer/styles/'\n",
    "\n",
    "styles_links = []\n",
    "\n",
    "for num in range(5,190):\n",
    "    styles_links.append(url+str(num))"
   ]
  },
  {
   "cell_type": "markdown",
   "metadata": {},
   "source": [
    "Using list of nums"
   ]
  },
  {
   "cell_type": "code",
   "execution_count": 20,
   "metadata": {},
   "outputs": [],
   "source": [
    "url = 'https://www.beeradvocate.com/beer/styles/'\n",
    "\n",
    "styles_links = []\n",
    "\n",
    "for num in styles_nums:\n",
    "    styles_links.append(url+num)"
   ]
  },
  {
   "cell_type": "markdown",
   "metadata": {},
   "source": [
    "# Selecting Beer from Beer Styles Pages"
   ]
  },
  {
   "cell_type": "code",
   "execution_count": 21,
   "metadata": {},
   "outputs": [],
   "source": [
    "url = styles_links[0]\n",
    "\n",
    "response = requests.get(url)"
   ]
  },
  {
   "cell_type": "code",
   "execution_count": 22,
   "metadata": {},
   "outputs": [
    {
     "data": {
      "text/plain": [
       "200"
      ]
     },
     "execution_count": 22,
     "metadata": {},
     "output_type": "execute_result"
    }
   ],
   "source": [
    "response.status_code # status code = 200 => OK"
   ]
  },
  {
   "cell_type": "code",
   "execution_count": 23,
   "metadata": {},
   "outputs": [],
   "source": [
    "# print(response.text)"
   ]
  },
  {
   "cell_type": "code",
   "execution_count": 24,
   "metadata": {},
   "outputs": [],
   "source": [
    "page = response.text"
   ]
  },
  {
   "cell_type": "code",
   "execution_count": 25,
   "metadata": {},
   "outputs": [],
   "source": [
    "soup = BeautifulSoup(page, \"lxml\")"
   ]
  },
  {
   "cell_type": "code",
   "execution_count": 26,
   "metadata": {},
   "outputs": [],
   "source": [
    "# print(soup.prettify())"
   ]
  },
  {
   "cell_type": "code",
   "execution_count": 27,
   "metadata": {},
   "outputs": [],
   "source": [
    "beer_links = [link for link in soup.find_all('a') if '/beer/profile/' in str(link)]"
   ]
  },
  {
   "cell_type": "markdown",
   "metadata": {},
   "source": [
    "### Beer Numbers"
   ]
  },
  {
   "cell_type": "markdown",
   "metadata": {},
   "source": [
    "Note that the beer numbers also need to include the brewery number to properly create a link"
   ]
  },
  {
   "cell_type": "code",
   "execution_count": 54,
   "metadata": {},
   "outputs": [],
   "source": [
    "beer_nums = []\n",
    "\n",
    "for link in beer_links:\n",
    "    beer_num = str(link).split('/')\n",
    "    if len(beer_num) > 6:\n",
    "        \n",
    "        # take both brewering number and beer number\n",
    "        \n",
    "        brew, beer = beer_num[3:5]\n",
    "        brew_beer = brew + '/' + beer + '/'\n",
    "        beer_nums.append(brew_beer)\n",
    "    else:\n",
    "        pass\n",
    "    "
   ]
  },
  {
   "cell_type": "code",
   "execution_count": 55,
   "metadata": {},
   "outputs": [
    {
     "data": {
      "text/plain": [
       "'/388/5281/'"
      ]
     },
     "execution_count": 55,
     "metadata": {},
     "output_type": "execute_result"
    }
   ],
   "source": [
    "beer_nums[0]"
   ]
  },
  {
   "cell_type": "code",
   "execution_count": 36,
   "metadata": {},
   "outputs": [
    {
     "data": {
      "text/plain": [
       "50"
      ]
     },
     "execution_count": 36,
     "metadata": {},
     "output_type": "execute_result"
    }
   ],
   "source": [
    "len(beer_nums)"
   ]
  },
  {
   "cell_type": "markdown",
   "metadata": {},
   "source": [
    "### Beer Names"
   ]
  },
  {
   "cell_type": "code",
   "execution_count": 30,
   "metadata": {},
   "outputs": [],
   "source": [
    "beer_names = []\n",
    "\n",
    "for link in beer_links:\n",
    "    beer_name = re.split(r'>|<', str(link))\n",
    "    if len(beer_name) > 6:\n",
    "        beer_names.append(beer_name[4])\n",
    "    else:\n",
    "        pass"
   ]
  },
  {
   "cell_type": "code",
   "execution_count": 31,
   "metadata": {},
   "outputs": [
    {
     "data": {
      "text/plain": [
       "\"Cantillon Fou' Foune\""
      ]
     },
     "execution_count": 31,
     "metadata": {},
     "output_type": "execute_result"
    }
   ],
   "source": [
    "beer_names[0]"
   ]
  },
  {
   "cell_type": "code",
   "execution_count": 37,
   "metadata": {},
   "outputs": [
    {
     "data": {
      "text/plain": [
       "50"
      ]
     },
     "execution_count": 37,
     "metadata": {},
     "output_type": "execute_result"
    }
   ],
   "source": [
    "len(beer_names)"
   ]
  },
  {
   "cell_type": "code",
   "execution_count": 32,
   "metadata": {},
   "outputs": [
    {
     "data": {
      "text/plain": [
       "['Belle Vue Kriek',\n",
       " 'Blackberry ',\n",
       " 'Boon Framboise',\n",
       " 'Boon Kriek',\n",
       " 'Boon Oude Kriek Mariage Parfait']"
      ]
     },
     "execution_count": 32,
     "metadata": {},
     "output_type": "execute_result"
    }
   ],
   "source": [
    "sorted(beer_names)[:5]"
   ]
  },
  {
   "cell_type": "markdown",
   "metadata": {},
   "source": [
    "# Getting Beer Info"
   ]
  },
  {
   "cell_type": "code",
   "execution_count": 69,
   "metadata": {},
   "outputs": [],
   "source": [
    "response = requests.get('https://www.beeradvocate.com/beer/profile/388/5281/')\n",
    "page = response.text\n",
    "soup = BeautifulSoup(page, \"lxml\")"
   ]
  },
  {
   "cell_type": "markdown",
   "metadata": {},
   "source": [
    "### Name and Brewery"
   ]
  },
  {
   "cell_type": "code",
   "execution_count": 262,
   "metadata": {},
   "outputs": [],
   "source": [
    "title_div = soup.find(class_='titleBar')"
   ]
  },
  {
   "cell_type": "code",
   "execution_count": 266,
   "metadata": {},
   "outputs": [
    {
     "data": {
      "text/plain": [
       "\"Cantillon Fou' Foune | Brasserie Cantillon\""
      ]
     },
     "execution_count": 266,
     "metadata": {},
     "output_type": "execute_result"
    }
   ],
   "source": [
    "beer_brew_names = str(title_div.text).replace('\\n','')\n",
    "beer_brew_names"
   ]
  },
  {
   "cell_type": "markdown",
   "metadata": {},
   "source": [
    "### Score"
   ]
  },
  {
   "cell_type": "code",
   "execution_count": 89,
   "metadata": {},
   "outputs": [],
   "source": [
    "score_obj = soup.find('span', {'class': 'BAscore_big'})"
   ]
  },
  {
   "cell_type": "code",
   "execution_count": 90,
   "metadata": {},
   "outputs": [
    {
     "data": {
      "text/plain": [
       "4.65"
      ]
     },
     "execution_count": 90,
     "metadata": {},
     "output_type": "execute_result"
    }
   ],
   "source": [
    "score = float(re.split(r'>|<', str(score_obj))[4])\n",
    "score"
   ]
  },
  {
   "cell_type": "markdown",
   "metadata": {},
   "source": [
    "### Class"
   ]
  },
  {
   "cell_type": "code",
   "execution_count": 91,
   "metadata": {},
   "outputs": [],
   "source": [
    "beer_class_obj = soup.find_all('b')[4]"
   ]
  },
  {
   "cell_type": "code",
   "execution_count": 96,
   "metadata": {},
   "outputs": [
    {
     "data": {
      "text/plain": [
       "'World-Class'"
      ]
     },
     "execution_count": 96,
     "metadata": {},
     "output_type": "execute_result"
    }
   ],
   "source": [
    "beer_class = re.split(r'>|<', str(class_obj))[2]\n",
    "beer_class"
   ]
  },
  {
   "cell_type": "markdown",
   "metadata": {},
   "source": [
    "### Number of ratings"
   ]
  },
  {
   "cell_type": "code",
   "execution_count": 98,
   "metadata": {},
   "outputs": [],
   "source": [
    "ratings_obj = soup.find('span', {\"class\": \"ba-ratings\"})"
   ]
  },
  {
   "cell_type": "code",
   "execution_count": 110,
   "metadata": {},
   "outputs": [
    {
     "data": {
      "text/plain": [
       "3079"
      ]
     },
     "execution_count": 110,
     "metadata": {},
     "output_type": "execute_result"
    }
   ],
   "source": [
    "ratings = int(re.split(r'>|<', str(ratings_obj))[2].replace(',',''))\n",
    "ratings"
   ]
  },
  {
   "cell_type": "markdown",
   "metadata": {},
   "source": [
    "### Beer Stats"
   ]
  },
  {
   "cell_type": "code",
   "execution_count": 205,
   "metadata": {},
   "outputs": [
    {
     "data": {
      "text/plain": [
       "<dd>#23</dd>"
      ]
     },
     "execution_count": 205,
     "metadata": {},
     "output_type": "execute_result"
    }
   ],
   "source": [
    "stats_objs = soup.find_all('dd')[5:13]\n",
    "stats_objs[0]"
   ]
  },
  {
   "cell_type": "code",
   "execution_count": 175,
   "metadata": {},
   "outputs": [],
   "source": [
    "stats_list = []\n",
    "\n",
    "for item in stats_objs:\n",
    "    item = str(item.text).strip()\n",
    "    if len(item) > 0:\n",
    "        clean_item = re.sub(r'#|%|,','',item)\n",
    "        \n",
    "        if '.' in clean_item:\n",
    "            stats_list.append(float(clean_item))\n",
    "        else:\n",
    "            stats_list.append(int(clean_item))\n",
    "    else:\n",
    "        pass\n",
    "    \n",
    "    stats_list"
   ]
  },
  {
   "cell_type": "code",
   "execution_count": 178,
   "metadata": {},
   "outputs": [],
   "source": [
    "ranking, reviews, ratings, pDev, wants, gots, trade = stats_list"
   ]
  },
  {
   "cell_type": "code",
   "execution_count": 180,
   "metadata": {},
   "outputs": [
    {
     "data": {
      "text/plain": [
       "(23, 562, 3079, 7.31, 2811, 669, 58)"
      ]
     },
     "execution_count": 180,
     "metadata": {},
     "output_type": "execute_result"
    }
   ],
   "source": [
    "ranking, reviews, ratings, pDev, wants, gots, trade "
   ]
  },
  {
   "cell_type": "markdown",
   "metadata": {},
   "source": [
    "### Brewery and Region"
   ]
  },
  {
   "cell_type": "code",
   "execution_count": 224,
   "metadata": {},
   "outputs": [
    {
     "data": {
      "text/plain": [
       "<a href=\"/beer/profile/388/\"><b>Brasserie Cantillon</b></a>"
      ]
     },
     "execution_count": 224,
     "metadata": {},
     "output_type": "execute_result"
    }
   ],
   "source": [
    "brew_objs = soup.find_all('a')[119:123]\n",
    "brew_objs[0]"
   ]
  },
  {
   "cell_type": "code",
   "execution_count": 203,
   "metadata": {},
   "outputs": [],
   "source": [
    "brew_objs_list = []\n",
    "\n",
    "for obj in brew_objs:\n",
    "    brew_objs_list.append(obj.text)"
   ]
  },
  {
   "cell_type": "code",
   "execution_count": 206,
   "metadata": {},
   "outputs": [],
   "source": [
    "brew, region, site, style = brew_objs_list"
   ]
  },
  {
   "cell_type": "code",
   "execution_count": 207,
   "metadata": {},
   "outputs": [
    {
     "data": {
      "text/plain": [
       "('Brasserie Cantillon', 'Belgium', 'cantillon.be', 'Belgian Fruit Lambic')"
      ]
     },
     "execution_count": 207,
     "metadata": {},
     "output_type": "execute_result"
    }
   ],
   "source": [
    "brew, region, site, style "
   ]
  },
  {
   "cell_type": "markdown",
   "metadata": {},
   "source": [
    "### ABV"
   ]
  },
  {
   "cell_type": "code",
   "execution_count": 230,
   "metadata": {},
   "outputs": [
    {
     "data": {
      "text/plain": [
       "<div class=\"break\" id=\"info_box\" style=\"float:right;width:70%;\">\n",
       "<div id=\"main_pic_norm\" style=\"text-align:center; float:right; width:150px; padding:0px; margin:0px 5px 25px 25px;\"><div style=\"position:relative;\"><img alt=\"Cantillon Fou' Foune\" border=\"0\" height=\"300\" src=\"https://cdn.beeradvocate.com/im/beers/5281.jpg\" width=\"90\"/><span style=\"position:absolute;left:0;top:0;\"><img alt=\"Cantillon Fou' Foune\" border=\"0\" height=\"300\" src=\"https://cdn.beeradvocate.com/im/c_beer_image.gif\" width=\"150\"/></span></div></div>\n",
       "<b>BEER INFO</b>\n",
       "<br/><br/>\n",
       "<b>Brewed by:</b>\n",
       "<br/>\n",
       "<a href=\"/beer/profile/388/\"><b>Brasserie Cantillon</b></a>\n",
       "<br/><a href=\"/place/directory/6/BE/\">Belgium</a><br/><a href=\"http://cantillon.be\" target=\"_blank\">cantillon.be</a> <br/><br/>\n",
       "<b>Style:</b> <a href=\"/beer/styles/10/\"><b>Belgian Fruit Lambic</b></a>\n",
       "<br/><br/>\n",
       "<b>Alcohol by volume (ABV):</b> 5.00%\n",
       "<br/><br/>\n",
       "<b>Availability:</b> Rotating\n",
       "<br/><br/>\n",
       "<b>Notes / Commercial Description:</b>\n",
       "<br/>\n",
       "Apricot Lambic<br/><br/>Added by rastaman on 08-05-2002<br/><br/> </div>"
      ]
     },
     "execution_count": 230,
     "metadata": {},
     "output_type": "execute_result"
    }
   ],
   "source": [
    "abv_div = soup.find('div',attrs={'id':'info_box'})\n",
    "abv_div"
   ]
  },
  {
   "cell_type": "code",
   "execution_count": 245,
   "metadata": {},
   "outputs": [
    {
     "data": {
      "text/plain": [
       "5.0"
      ]
     },
     "execution_count": 245,
     "metadata": {},
     "output_type": "execute_result"
    }
   ],
   "source": [
    "abv = float(str(abv_div).split('(ABV):</b>')[1][1:5])\n",
    "abv"
   ]
  },
  {
   "cell_type": "markdown",
   "metadata": {},
   "source": [
    "### Availability\n",
    "Note that we simply reuse the ABV div"
   ]
  },
  {
   "cell_type": "code",
   "execution_count": 244,
   "metadata": {},
   "outputs": [
    {
     "data": {
      "text/plain": [
       "'Rotating'"
      ]
     },
     "execution_count": 244,
     "metadata": {},
     "output_type": "execute_result"
    }
   ],
   "source": [
    "availability_str = str(abv_div).split('Availability:</b> ')[1]\n",
    "availability = availability_str.split('\\n')[0]\n",
    "availability"
   ]
  },
  {
   "cell_type": "markdown",
   "metadata": {},
   "source": [
    "### Commercial Description\n",
    "Note that we simply reuse the ABV div"
   ]
  },
  {
   "cell_type": "code",
   "execution_count": 251,
   "metadata": {},
   "outputs": [
    {
     "data": {
      "text/plain": [
       "'Apricot Lambic'"
      ]
     },
     "execution_count": 251,
     "metadata": {},
     "output_type": "execute_result"
    }
   ],
   "source": [
    "comm_desc_str = str(abv_div).split('Description:</b>\\n<br/>\\n')[1]\n",
    "comm_desc = comm_desc_str.split('<br')[0]\n",
    "comm_desc"
   ]
  },
  {
   "cell_type": "markdown",
   "metadata": {},
   "source": [
    "### Date Added\n",
    "Note that we simply reuse the ABV div"
   ]
  },
  {
   "cell_type": "code",
   "execution_count": 259,
   "metadata": {},
   "outputs": [
    {
     "data": {
      "text/plain": [
       "'08-05-2002'"
      ]
     },
     "execution_count": 259,
     "metadata": {},
     "output_type": "execute_result"
    }
   ],
   "source": [
    "date_added_str = str(abv_div).split('<br/><br/>')[-2]\n",
    "date_added = date_added_str.split()[-1]\n",
    "date_added"
   ]
  },
  {
   "cell_type": "markdown",
   "metadata": {},
   "source": [
    "### Adding sleep"
   ]
  },
  {
   "cell_type": "code",
   "execution_count": 272,
   "metadata": {},
   "outputs": [],
   "source": [
    "import time\n",
    "import numpy as np"
   ]
  },
  {
   "cell_type": "code",
   "execution_count": 324,
   "metadata": {},
   "outputs": [
    {
     "name": "stdout",
     "output_type": "stream",
     "text": [
      "hey\n"
     ]
    }
   ],
   "source": [
    "time.sleep(np.random.poisson(10)/10)\n",
    "\n",
    "print('hey')"
   ]
  },
  {
   "cell_type": "code",
   "execution_count": 323,
   "metadata": {},
   "outputs": [
    {
     "data": {
      "text/plain": [
       "1.2"
      ]
     },
     "execution_count": 323,
     "metadata": {},
     "output_type": "execute_result"
    }
   ],
   "source": []
  },
  {
   "cell_type": "markdown",
   "metadata": {},
   "source": [
    "# Following Links!"
   ]
  },
  {
   "cell_type": "markdown",
   "metadata": {},
   "source": [
    "### Psuedo code"
   ]
  },
  {
   "cell_type": "markdown",
   "metadata": {},
   "source": [
    "``` python\n",
    "for link in style_links:\n",
    "    \n",
    "    get_beer_links()\n",
    "    \n",
    "    for link in beer_links:\n",
    "        \n",
    "        follow_beer_link_get_data()\n",
    "```\n",
    "        "
   ]
  },
  {
   "cell_type": "markdown",
   "metadata": {},
   "source": [
    "# Everything below here may be out of date. See Implementing_Scraping.ipynb"
   ]
  },
  {
   "cell_type": "markdown",
   "metadata": {},
   "source": [
    "### Let's try real code!"
   ]
  },
  {
   "cell_type": "code",
   "execution_count": 38,
   "metadata": {},
   "outputs": [],
   "source": [
    "def get_style_links():\n",
    "    # we start on the styles page because it is the easiest page \n",
    "    # from which to access all beers\n",
    "    \n",
    "    followable_links = []\n",
    "    url = 'https://www.beeradvocate.com/beer/styles/'\n",
    "    response = requests.get(url)\n",
    "    page = response.text\n",
    "    soup = BeautifulSoup(page, \"lxml\")\n",
    "    \n",
    "    # get style links\n",
    "\n",
    "    styles_links = [link for link in soup.find_all('a') if 'beer/styles' in str(link)]\n",
    "\n",
    "    styles_nums = []\n",
    "\n",
    "    for link in styles_links[2:]:\n",
    "        styles_nums.append(str(link).split('/')[3])\n",
    "        \n",
    "    styles_nums = sorted(styles_nums)[1:]\n",
    "    \n",
    "    for num in styles_nums:\n",
    "        followable_links.append(url + num)\n",
    "    \n",
    "    return followable_links"
   ]
  },
  {
   "cell_type": "code",
   "execution_count": 59,
   "metadata": {},
   "outputs": [
    {
     "data": {
      "text/plain": [
       "'https://www.beeradvocate.com/beer/styles/10'"
      ]
     },
     "execution_count": 59,
     "metadata": {},
     "output_type": "execute_result"
    }
   ],
   "source": [
    "style_links = get_style_links()\n",
    "style_links[0]"
   ]
  },
  {
   "cell_type": "code",
   "execution_count": 61,
   "metadata": {},
   "outputs": [],
   "source": [
    "def get_brew_beer_links(url):\n",
    "    \n",
    "    followable_links = []\n",
    "    response = requests.get(url)\n",
    "    page = response.text\n",
    "    soup = BeautifulSoup(page, \"lxml\")\n",
    "    \n",
    "    beer_links = [link for link in soup.find_all('a') if '/beer/profile/' in str(link)]\n",
    "    \n",
    "    beer_nums = []\n",
    "\n",
    "    for link in beer_links:\n",
    "        beer_num = str(link).split('/')\n",
    "        if len(beer_num) > 6:\n",
    "\n",
    "            # take both brewering number and beer number\n",
    "\n",
    "            brew, beer = beer_num[3:5]\n",
    "            brew_beer = brew + '/' + beer + '/'\n",
    "            beer_nums.append(brew_beer)\n",
    "        else:\n",
    "            pass\n",
    "    \n",
    "    prof_url = 'https://www.beeradvocate.com/beer/profile/'\n",
    "    \n",
    "    for num in beer_nums:\n",
    "        followable_links.append(prof_url + num)\n",
    "    \n",
    "    return followable_links\n",
    "    "
   ]
  },
  {
   "cell_type": "code",
   "execution_count": 62,
   "metadata": {},
   "outputs": [
    {
     "data": {
      "text/plain": [
       "'https://www.beeradvocate.com/beer/profile/388/5281/'"
      ]
     },
     "execution_count": 62,
     "metadata": {},
     "output_type": "execute_result"
    }
   ],
   "source": [
    "brew_beer_link = get_brew_beer_links(style_links[0])\n",
    "brew_beer_link[0]"
   ]
  },
  {
   "cell_type": "code",
   "execution_count": 66,
   "metadata": {},
   "outputs": [],
   "source": [
    "def get_beer_info(url):\n",
    "    \n",
    "    out = []\n",
    "    response = requests.get(url)\n",
    "    page = response.text\n",
    "    soup = BeautifulSoup(page, \"lxml\")\n",
    "    \n",
    "    \n",
    "    \n",
    "    print(soup)"
   ]
  },
  {
   "cell_type": "code",
   "execution_count": 68,
   "metadata": {},
   "outputs": [],
   "source": [
    "beer_info = get_beer_info(brew_beer_link[0])\n",
    "beer_info"
   ]
  },
  {
   "cell_type": "code",
   "execution_count": null,
   "metadata": {},
   "outputs": [],
   "source": []
  },
  {
   "cell_type": "code",
   "execution_count": null,
   "metadata": {},
   "outputs": [],
   "source": [
    "def get_beer_info():\n",
    "    \n",
    "    style_links = get_style_links()\n",
    "    \n",
    "    for style_link in style_links:\n",
    "        \n",
    "        brew_beer_links = get_brew_beer_links(style_link)\n",
    "        \n",
    "        for brew_beer_link in brew_beer_links:\n",
    "            \n",
    "            get_beer_info(brew_beer_link)\n",
    "            \n",
    "            get_brew_info(brew_beer_link)\n",
    "    \n",
    "    \n",
    "    \n",
    "    "
   ]
  },
  {
   "cell_type": "markdown",
   "metadata": {},
   "source": [
    "# To Do Next"
   ]
  },
  {
   "cell_type": "markdown",
   "metadata": {},
   "source": [
    "* Be able to select the next 50 pages\n",
    "* be able to select the table of information from each page\n",
    "* Get list of brewery names/numbers\n",
    "* be able to select information on each brewery"
   ]
  },
  {
   "cell_type": "markdown",
   "metadata": {},
   "source": [
    "# Thoughts / Notes"
   ]
  },
  {
   "cell_type": "markdown",
   "metadata": {},
   "source": [
    "Just realized that each beer is within each beer profile\n",
    "* Let's say the beer profile (brewery) is 388 and the beer number is 5281\n",
    "* This would make the url end with /388/5281/\n",
    "* That means that we should be able to go through a range of values for the brewery and beers and simply skip those that don't work\n",
    "* Problem with this is that it might look like a DDOS... we could hit the page easily (brewery) 400 * (beer) 6000 = 2,400,000 times...\n",
    "* It would actually be way higher... Highest beer num is around 25,000"
   ]
  },
  {
   "cell_type": "code",
   "execution_count": null,
   "metadata": {},
   "outputs": [],
   "source": []
  }
 ],
 "metadata": {
  "kernelspec": {
   "display_name": "Python 3",
   "language": "python",
   "name": "python3"
  },
  "language_info": {
   "codemirror_mode": {
    "name": "ipython",
    "version": 3
   },
   "file_extension": ".py",
   "mimetype": "text/x-python",
   "name": "python",
   "nbconvert_exporter": "python",
   "pygments_lexer": "ipython3",
   "version": "3.7.1"
  }
 },
 "nbformat": 4,
 "nbformat_minor": 2
}
