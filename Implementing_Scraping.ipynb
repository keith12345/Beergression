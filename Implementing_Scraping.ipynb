{
 "cells": [
  {
   "cell_type": "code",
   "execution_count": 1,
   "metadata": {},
   "outputs": [],
   "source": [
    "import requests\n",
    "from bs4 import BeautifulSoup\n",
    "import re\n",
    "import time\n",
    "import numpy as np\n",
    "import pandas as pd\n",
    "import pickle"
   ]
  },
  {
   "cell_type": "code",
   "execution_count": 2,
   "metadata": {},
   "outputs": [],
   "source": [
    "def get_style_links():\n",
    "    # we start on the styles page because it is the easiest page \n",
    "    # from which to access all beers\n",
    "    \n",
    "    followable_links = []\n",
    "    url = 'https://www.beeradvocate.com/beer/styles/'\n",
    "    response = requests.get(url)\n",
    "    page = response.text\n",
    "    soup = BeautifulSoup(page, \"lxml\")\n",
    "    \n",
    "    # get style links\n",
    "\n",
    "    styles_links = [link for link in soup.find_all('a') if 'beer/styles' in str(link)]\n",
    "\n",
    "    styles_nums = []\n",
    "\n",
    "    for link in styles_links[2:]:\n",
    "        styles_nums.append(str(link).split('/')[3])\n",
    "        \n",
    "    styles_nums = sorted(styles_nums)[1:]\n",
    "    \n",
    "    for num in styles_nums:\n",
    "        followable_links.append(url + num)\n",
    "    \n",
    "    return followable_links"
   ]
  },
  {
   "cell_type": "code",
   "execution_count": 32,
   "metadata": {},
   "outputs": [
    {
     "data": {
      "text/plain": [
       "'https://www.beeradvocate.com/beer/styles/16'"
      ]
     },
     "execution_count": 32,
     "metadata": {},
     "output_type": "execute_result"
    }
   ],
   "source": [
    "style_links = get_style_links()\n",
    "style_links[28]"
   ]
  },
  {
   "cell_type": "code",
   "execution_count": 5,
   "metadata": {},
   "outputs": [],
   "source": [
    "def get_brew_beer_links(url):\n",
    "    \n",
    "    followable_links = []\n",
    "    response = requests.get(url)\n",
    "    page = response.text\n",
    "    soup = BeautifulSoup(page, \"lxml\")\n",
    "    \n",
    "    beer_links = [link for link in soup.find_all('a') if '/beer/profile/' in str(link)]\n",
    "    \n",
    "    beer_nums = []\n",
    "\n",
    "    for link in beer_links:\n",
    "        beer_num = str(link).split('/')\n",
    "        if len(beer_num) > 6:\n",
    "\n",
    "            # take both brewering number and beer number\n",
    "\n",
    "            brew, beer = beer_num[3:5]\n",
    "            brew_beer = brew + '/' + beer + '/'\n",
    "            beer_nums.append(brew_beer)\n",
    "        else:\n",
    "            pass\n",
    "    \n",
    "    prof_url = 'https://www.beeradvocate.com/beer/profile/'\n",
    "    \n",
    "    for num in beer_nums:\n",
    "        followable_links.append(prof_url + num)\n",
    "        \n",
    "    # returns highest sort value for styles page\n",
    "    \n",
    "    style_max_ref = soup.find_all('a')[117]\n",
    "    style_max = re.split(r'=|\"', str(style_max_ref))[-2]\n",
    "    \n",
    "    return followable_links"
   ]
  },
  {
   "cell_type": "code",
   "execution_count": 13,
   "metadata": {},
   "outputs": [
    {
     "name": "stdout",
     "output_type": "stream",
     "text": [
      "https://www.beeradvocate.com/beer/profile/388/5281/\n"
     ]
    }
   ],
   "source": [
    "brew_beer_links = get_brew_beer_links(style_links[0])\n",
    "brew_beer_link = brew_beer_links[0]\n",
    "print(brew_beer_link)"
   ]
  },
  {
   "cell_type": "code",
   "execution_count": 23,
   "metadata": {},
   "outputs": [],
   "source": [
    "def get_style_max(url):\n",
    "\n",
    "    response = requests.get(url)\n",
    "    page = response.text\n",
    "    soup = BeautifulSoup(page, \"lxml\")\n",
    "    \n",
    "    try:\n",
    "        style_max_ref = soup.find_all('a')[-137]\n",
    "        style_max = re.split(r'=|\"', str(style_max_ref))[-2]\n",
    "        style_max = int(style_max)\n",
    "    except:\n",
    "        style_max = 0\n",
    "    \n",
    "    return style_max"
   ]
  },
  {
   "cell_type": "code",
   "execution_count": 15,
   "metadata": {},
   "outputs": [
    {
     "data": {
      "text/plain": [
       "500"
      ]
     },
     "execution_count": 15,
     "metadata": {},
     "output_type": "execute_result"
    }
   ],
   "source": [
    "style_max = get_style_max(style_links[0])\n",
    "style_max"
   ]
  },
  {
   "cell_type": "markdown",
   "metadata": {},
   "source": [
    "Do I also want to separately track score within beer type??? I don't think I've gotten that..."
   ]
  },
  {
   "cell_type": "code",
   "execution_count": 16,
   "metadata": {},
   "outputs": [],
   "source": [
    "def get_beer_info(url):\n",
    "    \n",
    "    # Getting soup\n",
    "    \n",
    "    key = []\n",
    "    values = []\n",
    "    response = requests.get(url)\n",
    "    page = response.text\n",
    "    soup = BeautifulSoup(page, \"lxml\")\n",
    "    \n",
    "    # Finding feature values\n",
    "    \n",
    "    try:\n",
    "        title_div = soup.find(class_='titleBar')\n",
    "        beer_brew_names = str(title_div.text).replace('\\n','')\n",
    "    except:\n",
    "        beer_brew_names = 'NA'\n",
    "        \n",
    "    try:\n",
    "        score_obj = soup.find('span', {'class': 'BAscore_big'})\n",
    "        score = re.split(r'>|<', str(score_obj))[4]\n",
    "    except:\n",
    "        score = 'NA'\n",
    "        \n",
    "    try:   \n",
    "        beer_class_obj = soup.find_all('b')[4]\n",
    "        beer_class = re.split(r'>|<', str(beer_class_obj))[2]\n",
    "    except:\n",
    "        beer_class = 'NA'\n",
    "    \n",
    "    stats_objs = soup.find_all('dd')[5:13]\n",
    "    stats_list = []\n",
    "    for item in stats_objs:\n",
    "        item = str(item.text).strip()\n",
    "        if len(item) > 0:\n",
    "            clean_item = re.sub(r'#|%|,','',item)\n",
    "            if '.' in clean_item:\n",
    "                stats_list.append(clean_item)\n",
    "            else:\n",
    "                stats_list.append(clean_item)\n",
    "        else:\n",
    "            pass\n",
    "        \n",
    "    if len(stats_list) < 7:\n",
    "        stats_list = ('NA '*7).split()\n",
    "    \n",
    "    ranking, reviews, ratings, pDev, wants, gots, trade = stats_list\n",
    "\n",
    "    brew_objs = soup.find_all('a')[119:122]\n",
    "    brew_objs_list = []\n",
    "    for obj in brew_objs:\n",
    "        brew_objs_list.append(obj.text)\n",
    "    brew, region, site = brew_objs_list\n",
    "\n",
    "    try:\n",
    "        info_div = soup.find('div',attrs={'id':'info_box'})\n",
    "        info_sub_div = re.split(r'</b></a>\\n<br/><br/>\\n<b>',str(info_div))[-2]\n",
    "        style = info_sub_div.split('/\"><b>')[-1]\n",
    "        style\n",
    "    except:\n",
    "        style = 'NA'\n",
    "    \n",
    "    # checks length to handle exceptions when ABV is not provided\n",
    "    \n",
    "    abv_div = soup.find('div',attrs={'id':'info_box'})\n",
    "    abv_div_list = str(abv_div).split('(ABV):</b>')\n",
    "\n",
    "    try:\n",
    "        abv = abv_div_list[1][1:5]\n",
    "    except:\n",
    "        abv = np.nan\n",
    "\n",
    "    try:            \n",
    "        availability_str = str(abv_div).split('Availability:</b> ')[1]\n",
    "        availability = availability_str.split('\\n')[0]\n",
    "    except:\n",
    "        availability = 'NA'\n",
    "    \n",
    "    try:   \n",
    "        comm_desc_str = str(abv_div).split('Description:</b>\\n<br/>\\n')[1]\n",
    "        comm_desc = comm_desc_str.split('<br')[0]\n",
    "    except:\n",
    "        comm_desc = 'NA'\n",
    "        \n",
    "    try:\n",
    "        date_added_str = str(abv_div).split('<br/><br/>')[-2]\n",
    "        date_added = date_added_str.split()[-1]\n",
    "    except:\n",
    "        date_added = 'NA'\n",
    "        \n",
    "    \n",
    "    key = beer_brew_names \n",
    "    \n",
    "    values = [score, beer_class, ranking, reviews, ratings, pDev, \n",
    "                            wants, gots, trade, brew, region, site, style, abv, \n",
    "                            availability, comm_desc, date_added]\n",
    "    \n",
    "    return key, values"
   ]
  },
  {
   "cell_type": "code",
   "execution_count": 18,
   "metadata": {},
   "outputs": [
    {
     "name": "stdout",
     "output_type": "stream",
     "text": [
      "Cantillon Fou' Foune | Brasserie Cantillon\n",
      "['4.65', 'World-Class', '23', '562', '3079', '7.31', '2811', '669', '58', 'Brasserie Cantillon', 'Belgium', 'cantillon.be', 'Belgian Fruit Lambic', '5.00', 'Rotating', 'Apricot Lambic', '08-05-2002']\n"
     ]
    }
   ],
   "source": [
    "key, values = get_beer_info(brew_beer_link)\n",
    "print(key)\n",
    "print(values)"
   ]
  },
  {
   "cell_type": "code",
   "execution_count": 19,
   "metadata": {},
   "outputs": [],
   "source": [
    "def open_new_style_page(url,counter):\n",
    "    out = url + '/?sort=revsD&start=' + str(counter)\n",
    "    \n",
    "    return out\n",
    "    "
   ]
  },
  {
   "cell_type": "code",
   "execution_count": 20,
   "metadata": {},
   "outputs": [
    {
     "data": {
      "text/plain": [
       "'https://www.beeradvocate.com/beer/styles/10/?sort=revsD&start=0'"
      ]
     },
     "execution_count": 20,
     "metadata": {},
     "output_type": "execute_result"
    }
   ],
   "source": [
    "open_new_style_page(style_links[0],0)"
   ]
  },
  {
   "cell_type": "markdown",
   "metadata": {},
   "source": [
    "## Master Function"
   ]
  },
  {
   "cell_type": "code",
   "execution_count": 33,
   "metadata": {},
   "outputs": [],
   "source": [
    "def compile_beer_info():\n",
    "    \n",
    "    style_links = get_style_links()\n",
    "    \n",
    "    # pick up where we left off\n",
    "    \n",
    "    style_links = style_links[28:]\n",
    "    \n",
    "    for style_link in style_links:\n",
    "        \n",
    "        style_max = get_style_max(style_link)\n",
    "\n",
    "        # For each style link we add the suffix used\n",
    "        # to sort. Sorting is done in groups of 50.\n",
    "        # Our counter is used to specify where sorting\n",
    "        # will occur on the next loaded page.\n",
    "\n",
    "        # Each style like will have multple pages.\n",
    "\n",
    "        counter = 0\n",
    "\n",
    "        while counter <= style_max:\n",
    "            \n",
    "            dic = {}\n",
    "\n",
    "            url = open_new_style_page(style_link,counter)\n",
    "\n",
    "            brew_beer_links = get_brew_beer_links(url)\n",
    "\n",
    "            for brew_beer_link in brew_beer_links:\n",
    "\n",
    "                key, values = get_beer_info(brew_beer_link)\n",
    "\n",
    "                dic[key] = values\n",
    "\n",
    "                time.sleep(np.random.poisson(10)/100)\n",
    "\n",
    "            string = re.findall(r'\\d+', url)\n",
    "            name = str(string[0]) + '_' + str(string[-1])\n",
    "\n",
    "            df = pd.DataFrame(dic)     \n",
    "            df = df.transpose()      \n",
    "            pd.DataFrame.to_pickle(df,name)\n",
    "\n",
    "            counter += 50\n",
    "    \n",
    "    return "
   ]
  },
  {
   "cell_type": "code",
   "execution_count": 35,
   "metadata": {},
   "outputs": [],
   "source": [
    "%%time\n",
    "compile_beer_info()"
   ]
  }
 ],
 "metadata": {
  "kernelspec": {
   "display_name": "Python 3",
   "language": "python",
   "name": "python3"
  },
  "language_info": {
   "codemirror_mode": {
    "name": "ipython",
    "version": 3
   },
   "file_extension": ".py",
   "mimetype": "text/x-python",
   "name": "python",
   "nbconvert_exporter": "python",
   "pygments_lexer": "ipython3",
   "version": "3.7.1"
  }
 },
 "nbformat": 4,
 "nbformat_minor": 2
}
