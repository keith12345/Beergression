{
 "cells": [
  {
   "cell_type": "markdown",
   "metadata": {},
   "source": [
    "# Beers Pipeline\n",
    "\n",
    "\n",
    "### Prepare imported data:\n",
    "* Import and concatenate beer style dfs\n",
    "* Remove `'Brewery_Num'` and `'Beer_Name`' as they are not necessary for analysis\n",
    "* Convert `'ABV'` and `'Beer_Score'` to `float` and `'Num_Beer_Ratings'` to `int`\n",
    "\n",
    "\n",
    "### Add the following columns:\n",
    "* Add Total Number of Beer Reviews\n",
    "* Standard Deviation of `'ABV'`\n",
    "* Number / Counts of Beer_Style produced by Brewery\n",
    "* Average `'Beer_Score'` by Brewery\n",
    "* Average ABV of Beers\n",
    "* Max Number of Beer Ratings by Brewery\n",
    "* Highest/Lowest Average Score for any Style for a Brewery\n",
    "* Highest/Lowest Score for any Beer for a Brewery\n",
    "* Max/min/mean/count by Beer_Style Category"
   ]
  },
  {
   "cell_type": "code",
   "execution_count": 1,
   "metadata": {},
   "outputs": [],
   "source": [
    "import os\n",
    "\n",
    "import pandas as pd\n",
    "import numpy as np\n",
    "import seaborn as snsm\n",
    "import matplotlib.pyplot as plt\n",
    "import seaborn as sns\n",
    "\n",
    "import warnings; warnings.simplefilter('ignore')"
   ]
  },
  {
   "cell_type": "code",
   "execution_count": 2,
   "metadata": {},
   "outputs": [],
   "source": [
    "os.chdir('../../Beergression_Data_and_misc/Data/')"
   ]
  },
  {
   "cell_type": "markdown",
   "metadata": {},
   "source": [
    "# Beers"
   ]
  },
  {
   "cell_type": "markdown",
   "metadata": {},
   "source": [
    "### Import and concatenate Beer Style Dataframes"
   ]
  },
  {
   "cell_type": "markdown",
   "metadata": {},
   "source": [
    "The below was used to open all files that were saved to the Data2/ folder. Columns were renamed to be consistent with the convention used in brews_df."
   ]
  },
  {
   "cell_type": "markdown",
   "metadata": {},
   "source": [
    "``` python\n",
    "data_fols = os.listdir()\n",
    "\n",
    "style_nums = []\n",
    "\n",
    "for fol in data_fols:\n",
    "    try:\n",
    "        int(fol)\n",
    "        style_nums.append(str(fol))\n",
    "    except:\n",
    "        pass\n",
    "\n",
    "beers_df = pd.DataFrame(columns = ['beer_name','brewery_name','abv',\n",
    "                             'ratings','score','brewery_nums'])\n",
    "\n",
    "for num in style_nums:\n",
    "    pickled = pd.read_pickle(num)\n",
    "    beers_df = pd.concat([beers_df,pickled],sort=True)\n",
    "    \n",
    "beers_df.columns = ['ABV','Beer_Name','Brewery_Name',\n",
    "                    'Brewery_Num','Num_Beer_Ratings',\n",
    "                    'Beer_Score','Beer_Style']\n",
    "    \n",
    "pd.to_pickle(beers_df,'Beer_Data')\n",
    "\n",
    "```"
   ]
  },
  {
   "cell_type": "code",
   "execution_count": 4,
   "metadata": {},
   "outputs": [],
   "source": [
    "beers_df = pd.read_pickle('Beer_Data')"
   ]
  },
  {
   "cell_type": "markdown",
   "metadata": {},
   "source": [
    "Drop the Brewery_Num column as those values are only necessary to populate the Brewery Scraper function and will not be used in our model."
   ]
  },
  {
   "cell_type": "markdown",
   "metadata": {},
   "source": [
    "### Drop unnecessary columns"
   ]
  },
  {
   "cell_type": "code",
   "execution_count": 5,
   "metadata": {},
   "outputs": [],
   "source": [
    "beers_df.drop(['Brewery_Num','Beer_Name'],inplace=True,axis=1)"
   ]
  },
  {
   "cell_type": "markdown",
   "metadata": {},
   "source": [
    "Remove extraneous characters from `'ABV'` and `'Num_Beer_Ratings'` columns. Convert `'ABV'` and `'Beer_Score'` to `float` and `'Num_Beer_Ratings'` to `int`."
   ]
  },
  {
   "cell_type": "markdown",
   "metadata": {},
   "source": [
    "### Convert numeric columns to float and int"
   ]
  },
  {
   "cell_type": "code",
   "execution_count": 6,
   "metadata": {},
   "outputs": [],
   "source": [
    "beers_df['ABV'].replace(' ? ',np.nan,inplace=True)\n",
    "beers_df.Num_Beer_Ratings = beers_df.Num_Beer_Ratings.str.replace(',','')\n",
    "\n",
    "beers_df.ABV = beers_df.ABV.apply(float)\n",
    "beers_df.Beer_Score = beers_df.Beer_Score.apply(float)\n",
    "beers_df.Num_Beer_Ratings = beers_df.Num_Beer_Ratings.apply(int)"
   ]
  },
  {
   "cell_type": "markdown",
   "metadata": {},
   "source": [
    "Convert/impute missing values within ABV to the mean of ABV for that Beer_Style.  \n",
    "I decided to use the mean instead of the median due to the fact that the distribution of alcohol percentages by beer style are roughly normal but values peak around around certain values, typically integers. As it was possible for the median to fall within some of these peaks around integers, I decided that the mean is likely a more accurate representation of central tendency."
   ]
  },
  {
   "cell_type": "markdown",
   "metadata": {},
   "source": [
    "### Add Total Number of Beer Reviews"
   ]
  },
  {
   "cell_type": "code",
   "execution_count": 7,
   "metadata": {},
   "outputs": [],
   "source": [
    "total_beer_ratings = beers_df.groupby('Brewery_Name').sum().Num_Beer_Ratings\n",
    "total_beer_ratings = pd.DataFrame(total_beer_ratings)\n",
    "total_beer_ratings.columns = ['Total_Beer_Ratings']"
   ]
  },
  {
   "cell_type": "markdown",
   "metadata": {},
   "source": [
    "### Determine Standard Deviation of `'ABV'`"
   ]
  },
  {
   "cell_type": "markdown",
   "metadata": {},
   "source": [
    "It is possible that having a beers of a wider range of ABV could be something that customers seek in a brewery and thus lead to a higher score."
   ]
  },
  {
   "cell_type": "code",
   "execution_count": 8,
   "metadata": {},
   "outputs": [],
   "source": [
    "ABV_std = beers_df.groupby('Brewery_Name').std().ABV\n",
    "ABV_std = pd.DataFrame(ABV_std)\n",
    "ABV_std.columns = ['ABV_std']"
   ]
  },
  {
   "cell_type": "markdown",
   "metadata": {},
   "source": [
    "### Number / Counts of Beer_Style produced by Brewery"
   ]
  },
  {
   "cell_type": "code",
   "execution_count": 9,
   "metadata": {},
   "outputs": [],
   "source": [
    "num_styles_df = pd.DataFrame(beers_df.groupby(['Brewery_Name','Beer_Style']).size())\n",
    "num_styles_df.reset_index(inplace=True)\n",
    "num_styles = num_styles_df.groupby('Brewery_Name').size()\n",
    "num_styles = pd.DataFrame(num_styles,columns=['Num_Styles'])"
   ]
  },
  {
   "cell_type": "markdown",
   "metadata": {},
   "source": [
    "### Average `'Beer_Score'` by Brewery"
   ]
  },
  {
   "cell_type": "code",
   "execution_count": 10,
   "metadata": {},
   "outputs": [],
   "source": [
    "mean_beer_score = beers_df.groupby('Brewery_Name').mean().Beer_Score\n",
    "mean_beer_score = pd.DataFrame(mean_beer_score)\n",
    "mean_beer_score.columns = ['Mean_Beer_Score']"
   ]
  },
  {
   "cell_type": "markdown",
   "metadata": {},
   "source": [
    "### Average ABV of Beers"
   ]
  },
  {
   "cell_type": "code",
   "execution_count": 11,
   "metadata": {},
   "outputs": [],
   "source": [
    "mean_abv = beers_df.groupby('Brewery_Name').mean().ABV\n",
    "mean_abv = pd.DataFrame(mean_abv)\n",
    "mean_abv.columns = ['Mean_ABV']"
   ]
  },
  {
   "cell_type": "markdown",
   "metadata": {},
   "source": [
    "### Max Number of Beer Ratings by Brewery"
   ]
  },
  {
   "cell_type": "code",
   "execution_count": 12,
   "metadata": {},
   "outputs": [],
   "source": [
    "max_beer_ratings = beers_df.groupby('Brewery_Name').max().Num_Beer_Ratings\n",
    "max_beer_ratings = pd.DataFrame(max_beer_ratings)\n",
    "max_beer_ratings.columns = ['Max_Num_Beer_Ratings']"
   ]
  },
  {
   "cell_type": "markdown",
   "metadata": {},
   "source": [
    "### Highest/Lowest Average Score for any Style for a Brewery"
   ]
  },
  {
   "cell_type": "code",
   "execution_count": 13,
   "metadata": {},
   "outputs": [],
   "source": [
    "mean_beer_score_by_style_df = pd.DataFrame(beers_df.groupby(['Brewery_Name','Beer_Style']).mean())\n",
    "mean_beer_score_by_style_df.reset_index(inplace=True)\n",
    "\n",
    "max_of_mean_beer_score = mean_beer_score_by_style_df.groupby('Brewery_Name').max().Beer_Score\n",
    "max_of_mean_beer_score = pd.DataFrame(max_of_mean_beer_score)\n",
    "max_of_mean_beer_score.columns = ['Max_Mean_Beer_Score']\n",
    "\n",
    "min_of_mean_beer_score = mean_beer_score_by_style_df.groupby('Brewery_Name').min().Beer_Score\n",
    "min_of_mean_beer_score = pd.DataFrame(min_of_mean_beer_score)\n",
    "min_of_mean_beer_score.columns = ['Min_Mean_Beer_Score']"
   ]
  },
  {
   "cell_type": "markdown",
   "metadata": {},
   "source": [
    "### Highest/Lowest Score for any Beer for a Brewery"
   ]
  },
  {
   "cell_type": "code",
   "execution_count": 14,
   "metadata": {},
   "outputs": [],
   "source": [
    "max_beer_score = beers_df.groupby(['Brewery_Name']).max().Beer_Score\n",
    "max_beer_score = pd.DataFrame(max_beer_score)\n",
    "max_beer_score.columns = ['Max_Beer_Score']\n",
    "\n",
    "min_beer_score = beers_df.groupby(['Brewery_Name']).min().Beer_Score\n",
    "min_beer_score = pd.DataFrame(min_beer_score)\n",
    "min_beer_score.columns = ['Min_Beer_Score']"
   ]
  },
  {
   "cell_type": "markdown",
   "metadata": {},
   "source": [
    "## Creating Beer_Style Categories"
   ]
  },
  {
   "cell_type": "markdown",
   "metadata": {},
   "source": [
    "### Max/min/mean/count by Beer_Style Category"
   ]
  },
  {
   "cell_type": "markdown",
   "metadata": {},
   "source": [
    "Create patterns to identify style categories."
   ]
  },
  {
   "cell_type": "code",
   "execution_count": 15,
   "metadata": {},
   "outputs": [],
   "source": [
    "bocks = 'Bock'\n",
    "brown_ales = 'Brown|Dark Mild|Altbier'\n",
    "dark_ales = 'Black|Dark Ale|Dubbel|Roggenbier|Scottish Ale|Winter'\n",
    "dark_lagers = 'Red Lager|Dark Lager|Märzen|Rauch|Schwarz|Dunkel Lager|Vien'\n",
    "hybrid_beers = 'Cream|Champ|Cali'\n",
    "ipa = 'IPA'\n",
    "pale_ale = 'Red Ale|Blonde Ale|American Pale Ale|Belgian Pale|\\\n",
    "                    Belgian Saison|Bitter|English Pale|French|Kölsch'\n",
    "pilsner = 'Adj|Pils|American L|Malt|Dort|\\\n",
    "                    Pale L|Strong L|Helles|Keller'\n",
    "porter = 'Porter'\n",
    "specialty = 'Chile|Sahti|Field|Spice|Japan|Low|\\\n",
    "                    Pumpkin|Kvass|Rye|Gruit|Smoke Beer'\n",
    "stout = 'Stout'\n",
    "strong = 'Barley|Imperial Red|Strong Ale|Wheatwine|\\\n",
    "                Quad|Strong Dark|Strong Pale|Tripel|Old|Wee'\n",
    "wheat = 'Wheat Ale|Witbier|Weisse|Dunkelweizen|Hefe|Kristal'\n",
    "wild_sour = 'Brett|Wild|Faro|Lambic|Gue|Flanders|Leip'"
   ]
  },
  {
   "cell_type": "markdown",
   "metadata": {},
   "source": [
    "Combine lists of patterns and style category names. They will be zipped and used to loop through the dataframe and assign the appropriate style category name."
   ]
  },
  {
   "cell_type": "code",
   "execution_count": 16,
   "metadata": {},
   "outputs": [],
   "source": [
    "style_patterns = [bocks,brown_ales,dark_ales,dark_lagers,\n",
    "                  hybrid_beers,ipa,pale_ale,\n",
    "                  pilsner,porter,specialty,stout,strong,\n",
    "                  wheat,wild_sour]\n",
    "style_categories = ['Bocks','Brown_Ales','Dark_Ales','Dark_Lagers',\n",
    "                  'Hybrid_Beers','IPA','Pale_Ale',\n",
    "                  'Pilsner','Porter','Specialty','Stout','Strong',\n",
    "                  'Wheat','Wild_Sour']"
   ]
  },
  {
   "cell_type": "code",
   "execution_count": 17,
   "metadata": {},
   "outputs": [],
   "source": [
    "beers_df['Style_Category'] = None \n",
    "\n",
    "for pattern, style in zip(style_patterns,style_categories):\n",
    "    beers_df.loc[beers_df.Beer_Style.str.contains(pattern),\n",
    "           'Style_Category'] = style"
   ]
  },
  {
   "cell_type": "markdown",
   "metadata": {},
   "source": [
    "Max/Min/Mean/Count are all assigned by grouping by both the Brewery Name and the style category. The pivot table function is used so that each style category for each brewery is its own column/feature. "
   ]
  },
  {
   "cell_type": "code",
   "execution_count": 18,
   "metadata": {},
   "outputs": [],
   "source": [
    "max_by_style = beers_df.groupby(['Brewery_Name',\n",
    "                'Style_Category']).max()\n",
    "max_by_style.reset_index(inplace=True)\n",
    "max_by_style = max_by_style.pivot('Brewery_Name','Style_Category','Beer_Score')\n",
    "max_by_style.columns = ['Max_' + str(col) for col in max_by_style.columns]"
   ]
  },
  {
   "cell_type": "code",
   "execution_count": 19,
   "metadata": {},
   "outputs": [],
   "source": [
    "min_by_style = beers_df.groupby(['Brewery_Name',\n",
    "                'Style_Category']).min()\n",
    "min_by_style.reset_index(inplace=True)\n",
    "min_by_style = min_by_style.pivot('Brewery_Name','Style_Category','Beer_Score')\n",
    "min_by_style.columns = ['Min_' + str(col) for col in min_by_style.columns]"
   ]
  },
  {
   "cell_type": "code",
   "execution_count": 20,
   "metadata": {},
   "outputs": [],
   "source": [
    "mean_by_style = beers_df.groupby(['Brewery_Name',\n",
    "                'Style_Category']).mean()\n",
    "mean_by_style.reset_index(inplace=True)\n",
    "mean_by_style = mean_by_style.pivot('Brewery_Name','Style_Category','Beer_Score')\n",
    "mean_by_style.columns = ['Mean_' + str(col) for col in mean_by_style.columns]"
   ]
  },
  {
   "cell_type": "code",
   "execution_count": 21,
   "metadata": {},
   "outputs": [],
   "source": [
    "count_by_style = beers_df.groupby(['Brewery_Name',\n",
    "                'Style_Category']).size()\n",
    "\n",
    "count_by_style = pd.DataFrame(count_by_style)\n",
    "count_by_style.reset_index(inplace=True)\n",
    "count_by_style = count_by_style.pivot('Brewery_Name','Style_Category',0)\n",
    "count_by_style.columns = ['Count_' + str(col) for col in count_by_style.columns]"
   ]
  },
  {
   "cell_type": "markdown",
   "metadata": {},
   "source": [
    "Note below the creation a combined IPAs and Pale Ales set of features."
   ]
  },
  {
   "cell_type": "code",
   "execution_count": 22,
   "metadata": {},
   "outputs": [],
   "source": [
    "ipa_pale_ale_pattern = 'Red Ale|Blonde Ale|American Pale Ale|Belgian Pale|\\\n",
    "                    Belgian Saison|Bitter|English Pale|French|Kölsch|IPA'\n",
    "ipa_pale_ale_df = beers_df[beers_df.Beer_Style.str.contains(ipa_pale_ale_pattern)]\n",
    "\n",
    "max_ipa_pale_ale = ipa_pale_ale_df.groupby('Brewery_Name').max().Beer_Score\n",
    "max_ipa_pale_ale = pd.DataFrame(max_ipa_pale_ale)\n",
    "max_ipa_pale_ale.columns = ['Max_IPA_Pale_Ale']\n",
    "\n",
    "min_ipa_pale_ale = ipa_pale_ale_df.groupby('Brewery_Name').min().Beer_Score\n",
    "min_ipa_pale_ale = pd.DataFrame(min_ipa_pale_ale)\n",
    "min_ipa_pale_ale.columns = ['Min_IPA_Pale_Ale']\n",
    "\n",
    "mean_ipa_pale_ale = ipa_pale_ale_df.groupby('Brewery_Name').mean().Beer_Score\n",
    "mean_ipa_pale_ale = pd.DataFrame(mean_ipa_pale_ale)\n",
    "mean_ipa_pale_ale.columns = ['Mean_IPA_Pale_Ale']\n",
    "\n",
    "count_ipa_pale_ale = ipa_pale_ale_df.groupby('Brewery_Name').size()\n",
    "count_ipa_pale_ale = pd.DataFrame(count_ipa_pale_ale)\n",
    "count_ipa_pale_ale.columns = ['Count_IPA_Pale_Ale']"
   ]
  },
  {
   "cell_type": "markdown",
   "metadata": {},
   "source": [
    "# Compiling Beer Data"
   ]
  },
  {
   "cell_type": "code",
   "execution_count": 23,
   "metadata": {},
   "outputs": [],
   "source": [
    "derived_from_beers = [total_beer_ratings, ABV_std, num_styles, \n",
    "                      mean_beer_score, mean_abv, max_beer_ratings, \n",
    "                      max_of_mean_beer_score, min_of_mean_beer_score, \n",
    "                      max_beer_score, min_beer_score]\n",
    "\n",
    "style_dfs = [max_by_style, min_by_style, \n",
    "             mean_by_style, count_by_style,\n",
    "             max_ipa_pale_ale, min_ipa_pale_ale,\n",
    "             mean_ipa_pale_ale, count_ipa_pale_ale]"
   ]
  },
  {
   "cell_type": "code",
   "execution_count": 24,
   "metadata": {},
   "outputs": [],
   "source": [
    "df = pd.concat(derived_from_beers,axis=1,join='outer')\n",
    "df.fillna(0,inplace=True)\n",
    "pd.to_pickle(df,'Clean_Beer_Data')\n",
    "\n",
    "df = pd.concat(style_dfs,axis=1,join='outer')\n",
    "df.fillna(0,inplace=True)\n",
    "pd.to_pickle(df,'Clean_Beer_Style_Data')"
   ]
  },
  {
   "cell_type": "code",
   "execution_count": null,
   "metadata": {},
   "outputs": [],
   "source": []
  }
 ],
 "metadata": {
  "kernelspec": {
   "display_name": "Python 3",
   "language": "python",
   "name": "python3"
  },
  "language_info": {
   "codemirror_mode": {
    "name": "ipython",
    "version": 3
   },
   "file_extension": ".py",
   "mimetype": "text/x-python",
   "name": "python",
   "nbconvert_exporter": "python",
   "pygments_lexer": "ipython3",
   "version": "3.7.1"
  }
 },
 "nbformat": 4,
 "nbformat_minor": 2
}
