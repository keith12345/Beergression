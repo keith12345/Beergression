{
 "cells": [
  {
   "cell_type": "code",
   "execution_count": 1,
   "metadata": {},
   "outputs": [],
   "source": [
    "import requests\n",
    "from bs4 import BeautifulSoup\n",
    "import re\n",
    "import time\n",
    "import numpy as np\n",
    "import pandas as pd\n",
    "import pickle"
   ]
  },
  {
   "cell_type": "code",
   "execution_count": 2,
   "metadata": {},
   "outputs": [],
   "source": [
    "def get_style_links():\n",
    "    # we start on the styles page because it is the easiest page \n",
    "    # from which to access all beers\n",
    "    \n",
    "    followable_links = []\n",
    "    url = 'https://www.beeradvocate.com/beer/styles/'\n",
    "    response = requests.get(url)\n",
    "    page = response.text\n",
    "    soup = BeautifulSoup(page, \"lxml\")\n",
    "    \n",
    "    # get style links\n",
    "\n",
    "    styles_links = [link for link in soup.find_all('a') if 'beer/styles' in str(link)]\n",
    "\n",
    "    styles_nums = []\n",
    "\n",
    "    for link in styles_links[2:]:\n",
    "        styles_nums.append(str(link).split('/')[3])\n",
    "        \n",
    "    styles_nums = sorted(styles_nums)[1:]\n",
    "    \n",
    "    for num in styles_nums:\n",
    "        followable_links.append(url + num)\n",
    "    \n",
    "    return followable_links"
   ]
  },
  {
   "cell_type": "code",
   "execution_count": 3,
   "metadata": {},
   "outputs": [
    {
     "data": {
      "text/plain": [
       "'https://www.beeradvocate.com/beer/styles/10'"
      ]
     },
     "execution_count": 3,
     "metadata": {},
     "output_type": "execute_result"
    }
   ],
   "source": [
    "style_links = get_style_links()\n",
    "style_links[0]"
   ]
  },
  {
   "cell_type": "code",
   "execution_count": 84,
   "metadata": {},
   "outputs": [],
   "source": [
    "def get_beer_info(url):\n",
    "    \n",
    "    response = requests.get(url)\n",
    "    page = response.text\n",
    "    soup = BeautifulSoup(page, \"lxml\")\n",
    "    \n",
    "    beer_info_td_s = soup.select('td[class*=\"hr_bottom_light\"]')\n",
    "    beer_info_list = [td.text for td in ratings_td]\n",
    "\n",
    "    rearranger = int(len(beer_info_list)/6)\n",
    "\n",
    "    beer_name = beer_info_list[::6]\n",
    "    brewery_name = beer_info_list[1::6]\n",
    "    abv = beer_info_list[2::6]\n",
    "    ratings = beer_info_list[3::6]\n",
    "    score = beer_info_list[4::6]\n",
    "\n",
    "    beer_and_brewery_names_links = soup.select(\"a[href*=/beer/profile/]\")\n",
    "\n",
    "    brewery_nums = []\n",
    "\n",
    "    for link in beer_and_brewery_names_links[1::2]:\n",
    "        brew_num_string_list = str(link).split('/')\n",
    "        brew_num = brew_num_string_list[3]\n",
    "        brewery_nums.append(brew_num)\n",
    "\n",
    "    data = np.array([beer_name,brewery_name,abv,\n",
    "                     ratings,score,brewery_nums]).reshape(rearranger,6)\n",
    "\n",
    "    df = pd.DataFrame(data=[beer_name,brewery_name,abv,\n",
    "                     ratings,score,brewery_nums])\n",
    "\n",
    "    df = df.transpose()\n",
    "\n",
    "    df.columns = ['beer_name','brewery_name','abv',\n",
    "                     'ratings','score','brewery_nums']\n",
    "    \n",
    "    return df.to_pickle()"
   ]
  },
  {
   "cell_type": "code",
   "execution_count": 86,
   "metadata": {},
   "outputs": [],
   "source": [
    "df = get_beer_info('https://www.beeradvocate.com/beer/styles/10')"
   ]
  },
  {
   "cell_type": "markdown",
   "metadata": {},
   "source": [
    "**psuedo code**"
   ]
  },
  {
   "cell_type": "markdown",
   "metadata": {},
   "source": [
    "``` python\n",
    "\n",
    "\n",
    "df = pd.DataFrame()\n",
    "\n",
    "for each_link in style_links:\n",
    "    \n",
    "    page_of_beers = np.array()\n",
    "    \n",
    "    beer_names = call\n",
    "    \n",
    "    Brewery = call\n",
    "    \n",
    "    ABV = call\n",
    "    \n",
    "    Ratings = call\n",
    "    \n",
    "    score = call\n",
    "    \n",
    "    brewery_number = call\n",
    "    \n",
    "    page_of_beers = beer_names, brewery, ABV, ratings, score\n",
    "    \n",
    "    \n",
    "    "
   ]
  },
  {
   "cell_type": "code",
   "execution_count": null,
   "metadata": {},
   "outputs": [],
   "source": []
  },
  {
   "cell_type": "code",
   "execution_count": null,
   "metadata": {},
   "outputs": [],
   "source": []
  },
  {
   "cell_type": "code",
   "execution_count": null,
   "metadata": {},
   "outputs": [],
   "source": []
  },
  {
   "cell_type": "code",
   "execution_count": null,
   "metadata": {},
   "outputs": [],
   "source": []
  },
  {
   "cell_type": "code",
   "execution_count": null,
   "metadata": {},
   "outputs": [],
   "source": []
  },
  {
   "cell_type": "code",
   "execution_count": null,
   "metadata": {},
   "outputs": [],
   "source": []
  },
  {
   "cell_type": "code",
   "execution_count": null,
   "metadata": {},
   "outputs": [],
   "source": []
  },
  {
   "cell_type": "code",
   "execution_count": 5,
   "metadata": {},
   "outputs": [],
   "source": [
    "def get_style_max(url):\n",
    "\n",
    "    response = requests.get(url)\n",
    "    page = response.text\n",
    "    soup = BeautifulSoup(page, \"lxml\")\n",
    "    \n",
    "    try:\n",
    "        style_max_ref = soup.find_all('a')[-137]\n",
    "        style_max = re.split(r'=|\"', str(style_max_ref))[-2]\n",
    "        style_max = int(style_max)\n",
    "    except:\n",
    "        style_max = 0\n",
    "    \n",
    "    return style_max"
   ]
  },
  {
   "cell_type": "code",
   "execution_count": null,
   "metadata": {},
   "outputs": [],
   "source": [
    "def open_new_style_page(url,counter):\n",
    "    out = url + '/?sort=revsD&start=' + str(counter)\n",
    "    \n",
    "    return out\n",
    "    "
   ]
  },
  {
   "cell_type": "code",
   "execution_count": null,
   "metadata": {},
   "outputs": [],
   "source": [
    "open_new_style_page(style_links[0],0)"
   ]
  },
  {
   "cell_type": "markdown",
   "metadata": {},
   "source": [
    "# Master Function"
   ]
  },
  {
   "cell_type": "code",
   "execution_count": null,
   "metadata": {},
   "outputs": [],
   "source": [
    "def compile_beer_info():\n",
    "    \n",
    "    style_links = get_style_links()\n",
    "    \n",
    "    style_links = [style_links[0]] # remove later\n",
    "    \n",
    "    for style_link in style_links:\n",
    "        \n",
    "        style_max = get_style_max(style_link)\n",
    "        \n",
    "        counter = 0\n",
    "\n",
    "        while counter <= style_max:        \n",
    "\n",
    "            url = open_new_style_page(style_link,counter)\n",
    "\n",
    "            beer_info_df = get_beer_info(url)\n",
    "            \n",
    "            beer_info_df.to_pickle()"
   ]
  }
 ],
 "metadata": {
  "kernelspec": {
   "display_name": "Python 3",
   "language": "python",
   "name": "python3"
  },
  "language_info": {
   "codemirror_mode": {
    "name": "ipython",
    "version": 3
   },
   "file_extension": ".py",
   "mimetype": "text/x-python",
   "name": "python",
   "nbconvert_exporter": "python",
   "pygments_lexer": "ipython3",
   "version": "3.7.1"
  }
 },
 "nbformat": 4,
 "nbformat_minor": 2
}
