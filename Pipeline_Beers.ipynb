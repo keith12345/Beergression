{
 "cells": [
  {
   "cell_type": "markdown",
   "metadata": {},
   "source": [
    "# Beers Pipeline\n",
    "* Import and concatenate beer style dfs\n",
    "* Remove `'Brewery_Num'` and `'Beer_Name`' as they are not necessary for analysis\n",
    "* Convert `'ABV'` and `'Beer_Score'` to `float` and `'Num_Beer_Ratings'` to `int`\n",
    "### Add the following columns:\n",
    "* Total Number of Beer Reviews\n",
    "* Standard deviation of alcohol content\n",
    "* Number of Beer_Style produced by a brewery\n",
    "* Average Beer_Score by Brewery\n",
    "* Average Alcohol content of beers\n",
    "* Highest average score for a style\n",
    "* Lowest average score for a style  \n",
    "* Max/min/mean beer score by style category\n",
    "\n",
    "\n",
    "* Imputing missing ABV Values (Not really necessary...)\n",
    "\n",
    "\n",
    "* Highest/Lowest score for any beer for a brewery\n",
    "* Number of beers within particular styles\n",
    "* Number of beers within style groups\n",
    "\n",
    "\n",
    "#### Later add\n",
    "* Percentage of beers by beer style\n",
    "* Average number of beers by style (only counting styles that have at least one beer)\n",
    "* average number of ratings by beer style (Num ratings doesn't seem to be a good indicator)\n",
    "* max number of ratings by beer style (Num ratings doesn't seem to be a good indicator)\n",
    "\n",
    "## Desired Columns:\n",
    "* Create boolean for each beer whether notes exists.\n",
    "    * Possibly convert to percentage of beers that have notes\n",
    "    * Could also have total beers with notes (boolean probably better)"
   ]
  },
  {
   "cell_type": "code",
   "execution_count": 1,
   "metadata": {},
   "outputs": [],
   "source": [
    "import os\n",
    "\n",
    "import pandas as pd\n",
    "import numpy as np\n",
    "import seaborn as snsm\n",
    "import matplotlib.pyplot as plt\n",
    "import seaborn as sns\n",
    "\n",
    "import warnings; warnings.simplefilter('ignore')"
   ]
  },
  {
   "cell_type": "code",
   "execution_count": 2,
   "metadata": {},
   "outputs": [],
   "source": [
    "os.chdir('Data2/')"
   ]
  },
  {
   "cell_type": "markdown",
   "metadata": {},
   "source": [
    "# Beers"
   ]
  },
  {
   "cell_type": "markdown",
   "metadata": {},
   "source": [
    "### Import and concatenate Beer Style Dataframes"
   ]
  },
  {
   "cell_type": "markdown",
   "metadata": {},
   "source": [
    "The below was used to open all files that were saved to the Data2/ folder. Columns were renamed to be consistent with the convention used in brews_df."
   ]
  },
  {
   "cell_type": "markdown",
   "metadata": {},
   "source": [
    "``` python\n",
    "data_fols = os.listdir()\n",
    "\n",
    "style_nums = []\n",
    "\n",
    "for fol in data_fols:\n",
    "    try:\n",
    "        int(fol)\n",
    "        style_nums.append(str(fol))\n",
    "    except:\n",
    "        pass\n",
    "\n",
    "beers_df = pd.DataFrame(columns = ['beer_name','brewery_name','abv',\n",
    "                             'ratings','score','brewery_nums'])\n",
    "\n",
    "for num in style_nums:\n",
    "    pickled = pd.read_pickle(num)\n",
    "    beers_df = pd.concat([beers_df,pickled],sort=True)\n",
    "    \n",
    "beers_df.columns = ['ABV','Beer_Name','Brewery_Name',\n",
    "                    'Brewery_Num','Num_Beer_Ratings',\n",
    "                    'Beer_Score','Beer_Style']\n",
    "    \n",
    "pd.to_pickle(beers_df,'Beer_Data')\n",
    "\n",
    "```"
   ]
  },
  {
   "cell_type": "code",
   "execution_count": 3,
   "metadata": {},
   "outputs": [],
   "source": [
    "beers_df = pd.read_pickle('Beer_Data')"
   ]
  },
  {
   "cell_type": "markdown",
   "metadata": {},
   "source": [
    "Drop the Brewery_Num column as those values would have only been necessary to populate the Brewery Scraper function and will not be used in our model."
   ]
  },
  {
   "cell_type": "markdown",
   "metadata": {},
   "source": [
    "### Drop unnecessary columns"
   ]
  },
  {
   "cell_type": "code",
   "execution_count": 4,
   "metadata": {},
   "outputs": [],
   "source": [
    "beers_df.drop(['Brewery_Num','Beer_Name'],inplace=True,axis=1)"
   ]
  },
  {
   "cell_type": "markdown",
   "metadata": {},
   "source": [
    "Remove extraneous characters from `'ABV'` and `'Num_Beer_Ratings'` columns. Convert `'ABV'` and `'Beer_Score'` to `float` and `'Num_Beer_Ratings'` to `int`."
   ]
  },
  {
   "cell_type": "markdown",
   "metadata": {},
   "source": [
    "### Convert numeric columns to float and int"
   ]
  },
  {
   "cell_type": "code",
   "execution_count": 5,
   "metadata": {},
   "outputs": [],
   "source": [
    "beers_df['ABV'].replace(' ? ',np.nan,inplace=True)\n",
    "beers_df.Num_Beer_Ratings = beers_df.Num_Beer_Ratings.str.replace(',','')\n",
    "\n",
    "beers_df.ABV = beers_df.ABV.apply(float)\n",
    "beers_df.Beer_Score = beers_df.Beer_Score.apply(float)\n",
    "beers_df.Num_Beer_Ratings = beers_df.Num_Beer_Ratings.apply(int)"
   ]
  },
  {
   "cell_type": "markdown",
   "metadata": {},
   "source": [
    "Convert/impute missing values within ABV to the mean of ABV for that Beer_Style.  \n",
    "I decided to use the mean instead of the median due to the fact that the distribution of alcohol percentages by beer style are roughly normal but values peak around around certain values, typically integers. As it was possible for the median to fall within some of these peaks around integers, I decided that the mean is likely a more accurate representation of central tendency."
   ]
  },
  {
   "cell_type": "markdown",
   "metadata": {},
   "source": [
    "### Add Total Number of Beer Reviews"
   ]
  },
  {
   "cell_type": "code",
   "execution_count": 6,
   "metadata": {},
   "outputs": [],
   "source": [
    "total_beer_ratings = beers_df.groupby('Brewery_Name').sum().Num_Beer_Ratings\n",
    "total_beer_ratings = pd.DataFrame(total_beer_ratings)\n",
    "total_beer_ratings.columns = ['Total_Beer_Ratings']"
   ]
  },
  {
   "cell_type": "markdown",
   "metadata": {},
   "source": [
    "### Determine Standard Deviation of `'ABV'`"
   ]
  },
  {
   "cell_type": "markdown",
   "metadata": {},
   "source": [
    "It is possible that having a beers of a wider range of ABV could be something that customers seek in a brewery and thus lead to a higher score."
   ]
  },
  {
   "cell_type": "code",
   "execution_count": 7,
   "metadata": {},
   "outputs": [],
   "source": [
    "ABV_std = beers_df.groupby('Brewery_Name').std().ABV\n",
    "ABV_std = pd.DataFrame(ABV_std)\n",
    "ABV_std.columns = ['ABV_std']"
   ]
  },
  {
   "cell_type": "markdown",
   "metadata": {},
   "source": [
    "### Number / Counts of Beer_Style produced by Brewery"
   ]
  },
  {
   "cell_type": "code",
   "execution_count": 8,
   "metadata": {},
   "outputs": [],
   "source": [
    "num_styles_df = pd.DataFrame(beers_df.groupby(['Brewery_Name','Beer_Style']).size())\n",
    "num_styles_df.reset_index(inplace=True)\n",
    "num_styles = num_styles_df.groupby('Brewery_Name').size()\n",
    "num_styles = pd.DataFrame(num_styles,columns=['Num_Styles'])"
   ]
  },
  {
   "cell_type": "markdown",
   "metadata": {},
   "source": [
    "### Average `'Beer_Score'` by Brewery"
   ]
  },
  {
   "cell_type": "code",
   "execution_count": 9,
   "metadata": {},
   "outputs": [],
   "source": [
    "mean_beer_score = beers_df.groupby('Brewery_Name').mean().Beer_Score\n",
    "mean_beer_score = pd.DataFrame(mean_beer_score)\n",
    "mean_beer_score.columns = ['Mean_Beer_Score']"
   ]
  },
  {
   "cell_type": "markdown",
   "metadata": {},
   "source": [
    "### Average ABV of Beers"
   ]
  },
  {
   "cell_type": "code",
   "execution_count": 10,
   "metadata": {},
   "outputs": [],
   "source": [
    "mean_abv = beers_df.groupby('Brewery_Name').mean().ABV\n",
    "mean_abv = pd.DataFrame(mean_abv)\n",
    "mean_abv.columns = ['Mean_ABV']"
   ]
  },
  {
   "cell_type": "markdown",
   "metadata": {},
   "source": [
    "### Max Number of Beer Ratings by Brewery"
   ]
  },
  {
   "cell_type": "code",
   "execution_count": 11,
   "metadata": {},
   "outputs": [],
   "source": [
    "max_beer_ratings = beers_df.groupby('Brewery_Name').max().Num_Beer_Ratings\n",
    "max_beer_ratings = pd.DataFrame(max_beer_ratings)\n",
    "max_beer_ratings.columns = ['Max_Num_Beer_Ratings']"
   ]
  },
  {
   "cell_type": "markdown",
   "metadata": {},
   "source": [
    "### Highest/Lowest Average Score for any Style for a Brewery"
   ]
  },
  {
   "cell_type": "code",
   "execution_count": 12,
   "metadata": {},
   "outputs": [],
   "source": [
    "mean_beer_score_by_style_df = pd.DataFrame(beers_df.groupby(['Brewery_Name','Beer_Style']).mean())\n",
    "mean_beer_score_by_style_df.reset_index(inplace=True)\n",
    "\n",
    "max_of_mean_beer_score = mean_beer_score_by_style_df.groupby('Brewery_Name').max().Beer_Score\n",
    "max_of_mean_beer_score = pd.DataFrame(max_of_mean_beer_score)\n",
    "max_of_mean_beer_score.columns = ['Max_Mean_Beer_Score']\n",
    "\n",
    "min_of_mean_beer_score = mean_beer_score_by_style_df.groupby('Brewery_Name').min().Beer_Score\n",
    "min_of_mean_beer_score = pd.DataFrame(min_of_mean_beer_score)\n",
    "min_of_mean_beer_score.columns = ['Min_Mean_Beer_Score']"
   ]
  },
  {
   "cell_type": "markdown",
   "metadata": {},
   "source": [
    "### Highest/Lowest Score for any Beer for a Brewery"
   ]
  },
  {
   "cell_type": "code",
   "execution_count": 13,
   "metadata": {},
   "outputs": [],
   "source": [
    "max_beer_score = beers_df.groupby(['Brewery_Name']).max().Beer_Score\n",
    "max_beer_score = pd.DataFrame(max_beer_score)\n",
    "max_beer_score.columns = ['Max_Beer_Score']\n",
    "\n",
    "min_beer_score = beers_df.groupby(['Brewery_Name']).min().Beer_Score\n",
    "min_beer_score = pd.DataFrame(min_beer_score)\n",
    "min_beer_score.columns = ['Min_Beer_Score']"
   ]
  },
  {
   "cell_type": "markdown",
   "metadata": {},
   "source": [
    "## Creating Beer_Style Categories"
   ]
  },
  {
   "cell_type": "markdown",
   "metadata": {},
   "source": [
    "### Max/min/mean by Beer_Style Category"
   ]
  },
  {
   "cell_type": "code",
   "execution_count": 15,
   "metadata": {},
   "outputs": [],
   "source": [
    "bocks_df = beers_df[beers_df.Beer_Style.str.contains('Bock')]\n",
    "\n",
    "max_bock = bocks_df.groupby('Brewery_Name').max().Beer_Score\n",
    "max_bock = pd.DataFrame(max_bock)\n",
    "max_bock.columns = ['Max_Bock']\n",
    "\n",
    "min_bock = bocks_df.groupby('Brewery_Name').min().Beer_Score\n",
    "min_bock = pd.DataFrame(min_bock)\n",
    "min_bock.columns = ['Min_Bock']\n",
    "\n",
    "mean_bock = bocks_df.groupby('Brewery_Name').mean().Beer_Score\n",
    "mean_bock = pd.DataFrame(mean_bock)\n",
    "min_bock.columns = ['Mean_Bock']\n",
    "\n",
    "count_bock = bocks_df.groupby('Brewery_Name').size()\n",
    "count_bock = pd.DataFrame(count_bock)\n",
    "count_bock.columns = ['Count_Bock']"
   ]
  },
  {
   "cell_type": "code",
   "execution_count": 17,
   "metadata": {},
   "outputs": [],
   "source": [
    "brown_ales_pattern = 'Brown|Dark Mild|Altbier'\n",
    "brown_ales_df = beers_df[beers_df.Beer_Style.str.contains(brown_ales_pattern)]\n",
    "\n",
    "max_brown_ales = brown_ales_df.groupby('Brewery_Name').max().Beer_Score\n",
    "max_brown_ales = pd.DataFrame(max_brown_ales)\n",
    "max_brown_ales.columns = ['Max_Brown_Ales']\n",
    "\n",
    "min_brown_ales = brown_ales_df.groupby('Brewery_Name').min().Beer_Score\n",
    "min_brown_ales = pd.DataFrame(min_brown_ales)\n",
    "min_brown_ales.columns = ['Min_Brown_Ales']\n",
    "\n",
    "mean_brown_ales = brown_ales_df.groupby('Brewery_Name').mean().Beer_Score\n",
    "mean_brown_ales = pd.DataFrame(mean_brown_ales)\n",
    "mean_brown_ales.columns = ['Mean_Brown_Ales']\n",
    "\n",
    "count_brown_ales = brown_ales_df.groupby('Brewery_Name').size()\n",
    "count_brown_ales = pd.DataFrame(count_brown_ales)\n",
    "count_brown_ales.columns = ['Count_Brown_Ales']"
   ]
  },
  {
   "cell_type": "code",
   "execution_count": 23,
   "metadata": {},
   "outputs": [],
   "source": [
    "dark_ales_pattern = 'Black|Dark Ale|Dubbel|Roggenbier|Scottish Ale|Winter'\n",
    "dark_ales_df = beers_df[beers_df.Beer_Style.str.contains(dark_ales_pattern)]\n",
    "\n",
    "max_dark_ales = dark_ales_df.groupby('Brewery_Name').max().Beer_Score\n",
    "max_dark_ales = pd.DataFrame(max_dark_ales)\n",
    "max_dark_ales.columns = ['Max_Dark_Ales']\n",
    "\n",
    "min_dark_ales = dark_ales_df.groupby('Brewery_Name').min().Beer_Score\n",
    "min_dark_ales = pd.DataFrame(min_dark_ales)\n",
    "min_dark_ales.columns = ['Min_Dark_Ales']\n",
    "\n",
    "mean_dark_ales = dark_ales_df.groupby('Brewery_Name').mean().Beer_Score\n",
    "mean_dark_ales = pd.DataFrame(mean_dark_ales)\n",
    "mean_dark_ales.columns = ['Mean_Dark_Ales']\n",
    "\n",
    "count_brown_ales = bocks_df.groupby('Brewery_Name').size()\n",
    "count_brown_ales = pd.DataFrame(count_brown_ales)\n",
    "count_brown_ales.columns = ['Count_Brown_Ales']"
   ]
  },
  {
   "cell_type": "code",
   "execution_count": 25,
   "metadata": {},
   "outputs": [],
   "source": [
    "dark_lagers_pattern = 'Red Lager|Dark Lager|Märzen|Rauch|Schwarz|Dunkel Lager|Vien'\n",
    "dark_lagers_df = beers_df[beers_df.Beer_Style.str.contains(dark_lagers_pattern)]\n",
    "\n",
    "max_dark_lagers = dark_lagers_df.groupby('Brewery_Name').max().Beer_Score\n",
    "max_dark_lagers = pd.DataFrame(max_dark_lagers)\n",
    "max_dark_lagers.columns = ['Max_Dark_Lagers']\n",
    "\n",
    "min_dark_lagers = dark_lagers_df.groupby('Brewery_Name').min().Beer_Score\n",
    "min_dark_lagers = pd.DataFrame(max_dark_lagers)\n",
    "min_dark_lagers.columns = ['Min_Dark_Lagers']\n",
    "\n",
    "mean_dark_lagers = dark_lagers_df.groupby('Brewery_Name').mean().Beer_Score\n",
    "mean_dark_lagers = pd.DataFrame(mean_dark_lagers)\n",
    "mean_dark_lagers.columns = ['Mean_Dark_Lagers']\n",
    "\n",
    "count_dark_lagers = dark_lagers_df.groupby('Brewery_Name').size()\n",
    "count_dark_lagers = pd.DataFrame(count_dark_lagers)\n",
    "count_dark_lagers.columns = ['Count_Dark_Lagers']"
   ]
  },
  {
   "cell_type": "code",
   "execution_count": 26,
   "metadata": {},
   "outputs": [],
   "source": [
    "hybrid_beers_pattern = 'Cream|Champ|Cali'\n",
    "hybrid_df = beers_df[beers_df.Beer_Style.str.contains(hybrid_beers_pattern)]\n",
    "\n",
    "max_hybrid = hybrid_df.groupby('Brewery_Name').max().Beer_Score\n",
    "max_hybrid = pd.DataFrame(max_hybrid)\n",
    "max_hybrid.columns = ['Max_Hybrid']\n",
    "\n",
    "min_hybrid = hybrid_df.groupby('Brewery_Name').min().Beer_Score\n",
    "min_hybrid = pd.DataFrame(min_hybrid)\n",
    "min_hybrid.columns = ['Min_Hybrid']\n",
    "\n",
    "mean_hybrid = hybrid_df.groupby('Brewery_Name').mean().Beer_Score\n",
    "mean_hybrid = pd.DataFrame(mean_hybrid)\n",
    "mean_hybrid.columns = ['Mean_Hybrid']\n",
    "\n",
    "count_hybrid = dark_lagers_df.groupby('Brewery_Name').size()\n",
    "count_hybrid = pd.DataFrame(count_hybrid)\n",
    "count_hybrid.columns = ['Count_Hybrid']"
   ]
  },
  {
   "cell_type": "code",
   "execution_count": 27,
   "metadata": {},
   "outputs": [],
   "source": [
    "ipa_df = beers_df[beers_df.Beer_Style.str.contains('IPA')]\n",
    "\n",
    "max_ipa = ipa_df.groupby('Brewery_Name').max().Beer_Score\n",
    "max_ipa = pd.DataFrame(max_ipa)\n",
    "max_ipa.columns = ['Max_IPA']\n",
    "\n",
    "min_ipa = ipa_df.groupby('Brewery_Name').min().Beer_Score\n",
    "min_ipa = pd.DataFrame(min_ipa)\n",
    "min_ipa.columns = ['Min_IPA']\n",
    "\n",
    "mean_ipa = ipa_df.groupby('Brewery_Name').mean().Beer_Score\n",
    "mean_ipa = pd.DataFrame(mean_ipa)\n",
    "mean_ipa.columns = ['Mean_IPA']\n",
    "\n",
    "count_ipa = ipa_df.groupby('Brewery_Name').size()\n",
    "count_ipa = pd.DataFrame(count_ipa)\n",
    "count_ipa.columns = ['Count_IPA']"
   ]
  },
  {
   "cell_type": "markdown",
   "metadata": {},
   "source": [
    "Combined IPA and Pale Ale"
   ]
  },
  {
   "cell_type": "code",
   "execution_count": 29,
   "metadata": {},
   "outputs": [],
   "source": [
    "ipa_pale_ale_pattern = 'Red Ale|Blonde Ale|American Pale Ale|Belgian Pale|\\\n",
    "                    Belgian Saison|Bitter|English Pale|French|Kölsch|IPA'\n",
    "ipa_pale_ale_df = beers_df[beers_df.Beer_Style.str.contains(ipa_pale_ale_pattern)]\n",
    "\n",
    "max_ipa_pale_ale = ipa_pale_ale_df.groupby('Brewery_Name').max().Beer_Score\n",
    "max_ipa_pale_ale = pd.DataFrame(max_ipa_pale_ale)\n",
    "max_ipa_pale_ale.columns = ['Max_IPA_Pale_Ale']\n",
    "\n",
    "min_ipa_pale_ale = ipa_pale_ale_df.groupby('Brewery_Name').min().Beer_Score\n",
    "min_ipa_pale_ale = pd.DataFrame(min_ipa_pale_ale)\n",
    "min_ipa_pale_ale.columns = ['Min_IPA_Pale_Ale']\n",
    "\n",
    "mean_ipa_pale_ale = ipa_pale_ale_df.groupby('Brewery_Name').mean().Beer_Score\n",
    "mean_ipa_pale_ale = pd.DataFrame(mean_ipa_pale_ale)\n",
    "mean_ipa_pale_ale.columns = ['Mean_IPA_Pale_Ale']\n",
    "\n",
    "count_ipa_pale_ale = ipa_pale_ale_df.groupby('Brewery_Name').size()\n",
    "count_ipa_pale_ale = pd.DataFrame(count_ipa_pale_ale)\n",
    "count_ipa_pale_ale.columns = ['Count_IPA_Pale_Ale']"
   ]
  },
  {
   "cell_type": "code",
   "execution_count": 30,
   "metadata": {},
   "outputs": [],
   "source": [
    "pale_ale_pattern = 'Red Ale|Blonde Ale|American Pale Ale|Belgian Pale|\\\n",
    "                    Belgian Saison|Bitter|English Pale|French|Kölsch|I'\n",
    "pale_ale_df = beers_df[beers_df.Beer_Style.str.contains(pale_ale_pattern)]\n",
    "\n",
    "max_pale_ale = pale_ale_df.groupby('Brewery_Name').max().Beer_Score\n",
    "max_pale_ale = pd.DataFrame(max_pale_ale)\n",
    "max_pale_ale.columns = ['Max_Pale_Ale']\n",
    "\n",
    "min_pale_ale = pale_ale_df.groupby('Brewery_Name').min().Beer_Score\n",
    "min_pale_ale = pd.DataFrame(min_pale_ale)\n",
    "min_pale_ale.columns = ['Min_Pale_Ale']\n",
    "\n",
    "mean_pale_ale = pale_ale_df.groupby('Brewery_Name').mean().Beer_Score\n",
    "mean_pale_ale = pd.DataFrame(mean_pale_ale)\n",
    "mean_pale_ale.columns = ['Mean_Pale_Ale']\n",
    "\n",
    "count_pale_ale = ipa_df.groupby('Brewery_Name').size()\n",
    "count_pale_ale = pd.DataFrame(count_pale_ale)\n",
    "count_pale_ale.columns = ['Count_Pale_Ale']"
   ]
  },
  {
   "cell_type": "code",
   "execution_count": 31,
   "metadata": {},
   "outputs": [],
   "source": [
    "pilsner_pattern = 'Adj|Pils|American L|Malt|Dort|\\\n",
    "                    Pale L|Strong L|Helles|Keller'\n",
    "pilsner_df = beers_df[beers_df.Beer_Style.str.contains(pilsner_pattern)]\n",
    "\n",
    "max_pilsner = pilsner_df.groupby('Brewery_Name').max().Beer_Score\n",
    "max_pilsner = pd.DataFrame(max_pilsner)\n",
    "max_pilsner.columns = ['Max_Pilsner']\n",
    "\n",
    "min_pilsner = pilsner_df.groupby('Brewery_Name').min().Beer_Score\n",
    "min_pilsner = pd.DataFrame(min_pilsner)\n",
    "min_pilsner.columns = ['Min_Pilsner']\n",
    "\n",
    "mean_pilsner = pilsner_df.groupby('Brewery_Name').mean().Beer_Score\n",
    "mean_pilsner = pd.DataFrame(mean_pilsner)\n",
    "mean_pilsner.columns = ['Mean_Pilsner']\n",
    "\n",
    "count_pilsner = ipa_df.groupby('Brewery_Name').size()\n",
    "count_pilsner = pd.DataFrame(count_pilsner)\n",
    "count_pilsner.columns = ['Count_Pilsner']"
   ]
  },
  {
   "cell_type": "code",
   "execution_count": 32,
   "metadata": {},
   "outputs": [],
   "source": [
    "porter_df = beers_df[beers_df.Beer_Style.str.contains('Porter')]\n",
    "\n",
    "max_porter = porter_df.groupby('Brewery_Name').max().Beer_Score\n",
    "max_porter = pd.DataFrame(max_porter)\n",
    "max_porter.columns = ['Max_Porter']\n",
    "\n",
    "min_porter = porter_df.groupby('Brewery_Name').min().Beer_Score\n",
    "min_porter = pd.DataFrame(min_porter)\n",
    "min_porter.columns = ['Min_Porter']\n",
    "\n",
    "mean_porter = porter_df.groupby('Brewery_Name').mean().Beer_Score\n",
    "mean_porter = pd.DataFrame(mean_porter)\n",
    "mean_porter.columns = ['Mean_Porter']\n",
    "\n",
    "count_porter = ipa_df.groupby('Brewery_Name').size()\n",
    "count_porter = pd.DataFrame(count_porter)\n",
    "count_porter.columns = ['Count_Porter']"
   ]
  },
  {
   "cell_type": "code",
   "execution_count": 34,
   "metadata": {},
   "outputs": [],
   "source": [
    "specialty_pattern = 'Chile|Sahti|Field|Spice|Japan|Low|\\\n",
    "                    Pumpkin|Kvass|Rye|Gruit|Smoke Beer'\n",
    "specialty_df = beers_df[beers_df.Beer_Style.str.contains(specialty_pattern)]\n",
    "\n",
    "max_specialty = specialty_df.groupby('Brewery_Name').max().Beer_Score\n",
    "max_specialty = pd.DataFrame(max_specialty)\n",
    "max_specialty.columns = ['Max_Specialty']\n",
    "\n",
    "min_specialty = specialty_df.groupby('Brewery_Name').min().Beer_Score\n",
    "min_specialty = pd.DataFrame(min_specialty)\n",
    "min_specialty.columns = ['Min_Specialty']\n",
    "\n",
    "mean_specialty = specialty_df.groupby('Brewery_Name').mean().Beer_Score\n",
    "mean_specialty = pd.DataFrame(mean_specialty)\n",
    "mean_specialty.columns = ['Mean_Specialty']\n",
    "\n",
    "count_specialty = ipa_df.groupby('Brewery_Name').size()\n",
    "count_specialty = pd.DataFrame(count_specialty)\n",
    "count_specialty.columns = ['Count_Specialty']"
   ]
  },
  {
   "cell_type": "code",
   "execution_count": 40,
   "metadata": {},
   "outputs": [],
   "source": [
    "stout_df = beers_df[beers_df.Beer_Style.str.contains('Stout')]\n",
    "\n",
    "max_stout = stout_df.groupby('Brewery_Name').max().Beer_Score\n",
    "max_stout = pd.DataFrame(max_stout)\n",
    "max_stout.columns = ['Max_Stout']\n",
    "\n",
    "min_stout = stout_df.groupby('Brewery_Name').min().Beer_Score\n",
    "min_stout = pd.DataFrame(min_stout)\n",
    "min_stout.columns = ['Min_Stout']\n",
    "\n",
    "mean_stout = stout_df.groupby('Brewery_Name').mean().Beer_Score\n",
    "mean_stout = pd.DataFrame(mean_stout)\n",
    "mean_stout.columns = ['Mean_Stout']\n",
    "\n",
    "count_stout = ipa_df.groupby('Brewery_Name').size()\n",
    "count_stout = pd.DataFrame(count_stout)\n",
    "count_stout.columns = ['Count_Stout']"
   ]
  },
  {
   "cell_type": "code",
   "execution_count": 35,
   "metadata": {},
   "outputs": [],
   "source": [
    "strong_pattern = 'Barley|Imperial Red|Strong Ale|Wheatwine|\\\n",
    "                Quad|Strong Dark|Strong Pale|Tripel|Old|Wee'\n",
    "strong_df = beers_df[beers_df.Beer_Style.str.contains(strong_pattern)]\n",
    "\n",
    "max_strong = strong_df.groupby('Brewery_Name').max().Beer_Score\n",
    "max_strong = pd.DataFrame(max_strong)\n",
    "max_strong.columns = ['Max_Strong']\n",
    "\n",
    "min_strong = strong_df.groupby('Brewery_Name').min().Beer_Score\n",
    "min_strong = pd.DataFrame(min_strong)\n",
    "min_strong.columns = ['Min_Strong']\n",
    "\n",
    "mean_strong = strong_df.groupby('Brewery_Name').mean().Beer_Score\n",
    "mean_strong = pd.DataFrame(mean_strong)\n",
    "mean_strong.columns = ['Mean_Strong']\n",
    "\n",
    "count_strong = ipa_df.groupby('Brewery_Name').size()\n",
    "count_strong = pd.DataFrame(count_strong)\n",
    "count_strong.columns = ['Count_Strong']"
   ]
  },
  {
   "cell_type": "code",
   "execution_count": 36,
   "metadata": {},
   "outputs": [],
   "source": [
    "wheat_pattern = 'Wheat Ale|Witbier|Weisse|Dunkelweizen|Hefe|Kristal'\n",
    "wheat_df = beers_df[beers_df.Beer_Style.str.contains(wheat_pattern)]\n",
    "\n",
    "max_wheat = wheat_df.groupby('Brewery_Name').max().Beer_Score\n",
    "max_wheat = pd.DataFrame(max_wheat)\n",
    "max_wheat.columns = ['Max_Wheat']\n",
    "\n",
    "min_wheat = wheat_df.groupby('Brewery_Name').min().Beer_Score\n",
    "min_wheat = pd.DataFrame(min_wheat)\n",
    "min_wheat.columns = ['Min_Wheat']\n",
    "\n",
    "mean_wheat = wheat_df.groupby('Brewery_Name').mean().Beer_Score\n",
    "mean_wheat = pd.DataFrame(mean_wheat)\n",
    "mean_wheat.columns = ['Mean_Wheat']\n",
    "\n",
    "count_wheat = ipa_df.groupby('Brewery_Name').size()\n",
    "count_wheat = pd.DataFrame(count_wheat)\n",
    "count_wheat.columns = ['Count_Wheat']"
   ]
  },
  {
   "cell_type": "code",
   "execution_count": 37,
   "metadata": {},
   "outputs": [],
   "source": [
    "wild_sour_pattern = 'Brett|Wild|Faro|Lambic|Gue|Flanders|Leip'\n",
    "wild_sour_df = beers_df[beers_df.Beer_Style.str.contains(wild_sour_pattern)]\n",
    "\n",
    "max_wild_sour = wild_sour_df.groupby('Brewery_Name').max().Beer_Score\n",
    "max_wild_sour = pd.DataFrame(max_wild_sour)\n",
    "max_wild_sour.columns = ['Max_Wild_Sour']\n",
    "\n",
    "min_wild_sour = wild_sour_df.groupby('Brewery_Name').min().Beer_Score\n",
    "min_wild_sour = pd.DataFrame(min_wild_sour)\n",
    "min_wild_sour.columns = ['Min_Wild_Sour']\n",
    "\n",
    "mean_wild_sour = wild_sour_df.groupby('Brewery_Name').mean().Beer_Score\n",
    "mean_wild_sour = pd.DataFrame(mean_wild_sour)\n",
    "mean_wild_sour.columns = ['Mean_Wild_Sour']\n",
    "\n",
    "count_wild_sour = ipa_df.groupby('Brewery_Name').size()\n",
    "count_wild_sour = pd.DataFrame(count_wild_sour)\n",
    "count_wild_sour.columns = ['Count_Wild_Sour']"
   ]
  },
  {
   "cell_type": "markdown",
   "metadata": {},
   "source": [
    "# Compiling Beer Data"
   ]
  },
  {
   "cell_type": "code",
   "execution_count": 41,
   "metadata": {},
   "outputs": [],
   "source": [
    "derived_from_beers = [total_beer_ratings, ABV_std, num_styles, \n",
    "                      mean_beer_score, mean_abv, max_beer_ratings, \n",
    "                      max_of_mean_beer_score, min_of_mean_beer_score, \n",
    "                      max_beer_score, min_beer_score, count_ipa_pale_ale,\n",
    "                      max_bock, min_bock, mean_bock, max_brown_ales, \n",
    "                      min_brown_ales, mean_brown_ales, max_dark_ales, \n",
    "                      min_dark_ales, mean_dark_ales, max_dark_lagers, \n",
    "                      min_dark_lagers, mean_dark_lagers, max_hybrid, \n",
    "                      min_hybrid, mean_hybrid, max_ipa, min_ipa, \n",
    "                      mean_ipa, max_pale_ale, min_pale_ale, \n",
    "                      mean_pale_ale, max_pilsner, min_pilsner, \n",
    "                      mean_pilsner, max_porter, min_porter, \n",
    "                      mean_porter, max_specialty, min_specialty, \n",
    "                      mean_specialty, max_stout, min_stout, \n",
    "                      mean_stout, max_strong, min_strong, mean_strong, \n",
    "                      max_wheat, min_wheat, mean_wheat, max_wild_sour, \n",
    "                      min_wild_sour, mean_wild_sour]\n",
    "\n",
    "\n",
    "\n"
   ]
  },
  {
   "cell_type": "code",
   "execution_count": 42,
   "metadata": {},
   "outputs": [],
   "source": [
    "df = pd.concat(derived_from_beers,axis=1,join='outer')"
   ]
  },
  {
   "cell_type": "code",
   "execution_count": 45,
   "metadata": {},
   "outputs": [],
   "source": [
    "df.fillna(0,inplace=True)"
   ]
  },
  {
   "cell_type": "markdown",
   "metadata": {},
   "source": [
    "# Saving Clean Beer Data"
   ]
  },
  {
   "cell_type": "code",
   "execution_count": 47,
   "metadata": {},
   "outputs": [],
   "source": [
    "pd.to_pickle(df,'Clean_Beer_Data')"
   ]
  },
  {
   "cell_type": "code",
   "execution_count": null,
   "metadata": {},
   "outputs": [],
   "source": []
  }
 ],
 "metadata": {
  "kernelspec": {
   "display_name": "Python 3",
   "language": "python",
   "name": "python3"
  },
  "language_info": {
   "codemirror_mode": {
    "name": "ipython",
    "version": 3
   },
   "file_extension": ".py",
   "mimetype": "text/x-python",
   "name": "python",
   "nbconvert_exporter": "python",
   "pygments_lexer": "ipython3",
   "version": "3.7.1"
  }
 },
 "nbformat": 4,
 "nbformat_minor": 2
}
